{
 "cells": [
  {
   "cell_type": "markdown",
   "id": "aff4d295",
   "metadata": {},
   "source": [
    "- Используя модуль $\\texttt{random}$, создайте массив NumPy с 2 строками и 3 столбцами, в котором есть записи, представляющие собой случайные положительные целые числа меньше 10. Распечатайте свой массив. Измените запись в первой строке второго столбца на 8 и удвойте значение во второй строке третьего столбца. Распечатайте полученный массив, чтобы убедиться, что ваш код внес правильные изменения."
   ]
  },
  {
   "cell_type": "code",
   "execution_count": 61,
   "id": "07854f6c",
   "metadata": {},
   "outputs": [
    {
     "name": "stdout",
     "output_type": "stream",
     "text": [
      "[[4 6 3]\n",
      " [4 0 8]]\n",
      "\n",
      "\n",
      "[[ 4  8  3]\n",
      " [ 4  0 16]]\n"
     ]
    }
   ],
   "source": [
    "import numpy as np\n",
    "\n",
    "arr = np.random.randint(10, size=(2,3))\n",
    "print(arr)\n",
    "print('\\n')\n",
    "arr[0,1] = 8\n",
    "arr[1,2] = arr[1,2] * 2\n",
    "print(arr)"
   ]
  },
  {
   "cell_type": "markdown",
   "id": "9e07670f",
   "metadata": {},
   "source": [
    "- Используя модуль $\\texttt{random}$, создайте массив NumPy с 3 строками и 3 столбцами, в котором есть записи, представляющие собой случайные положительные целые числа меньше 10. Распечатайте свой массив. Теперь умножьте каждое значение в матрице на 5, а затем добавьте 1 ко всем элементам во второй строке. После этого разделите каждую диагональную запись на 2 и распечатайте полученный массив, чтобы убедиться, что ваш код внес правильные изменения."
   ]
  },
  {
   "cell_type": "code",
   "execution_count": 62,
   "id": "8252b9fb",
   "metadata": {},
   "outputs": [
    {
     "name": "stdout",
     "output_type": "stream",
     "text": [
      "[[7 7 5]\n",
      " [4 1 1]\n",
      " [4 3 4]]\n",
      "\n",
      " [[35 35 25]\n",
      " [20  5  5]\n",
      " [20 15 20]]\n",
      "\n",
      " [[35 35 25]\n",
      " [21  6  6]\n",
      " [20 15 20]] \n",
      "\n",
      "[[17.5 35.  25. ]\n",
      " [21.   3.   6. ]\n",
      " [20.  15.  10. ]]\n"
     ]
    }
   ],
   "source": [
    "arr = np.random.randint(10, size = (3,3))\n",
    "print(arr)\n",
    "\n",
    "arr = arr * 5\n",
    "print('\\n', arr)\n",
    "arr[1,:] += 1\n",
    "print('\\n', arr, '\\n')\n",
    "arr = arr.astype(float)\n",
    "for i in range(len(arr)):\n",
    "    arr[i][i] /= 2\n",
    "print(arr)"
   ]
  },
  {
   "cell_type": "markdown",
   "id": "dadbaaae",
   "metadata": {},
   "source": [
    "- Используя модуль $\\texttt{random}$, создайте массив NumPy с 2 строками и 3 столбцами, в котором элементы являются случайными целыми числами больше 5 и меньше 13. Напишите код, который заменяет все четные элементы матрицы на 0. Распечатайте массив и проверьте результаты. Запустите код несколько раз, чтобы убедиться, что он работает для *разных* случайных массивов."
   ]
  },
  {
   "cell_type": "code",
   "execution_count": 67,
   "id": "ba29ea95",
   "metadata": {},
   "outputs": [
    {
     "name": "stdout",
     "output_type": "stream",
     "text": [
      "[[ 7 10 11]\n",
      " [ 7  7 10]] \n",
      "\n",
      "[[ 7  0 11]\n",
      " [ 7  7  0]]\n"
     ]
    }
   ],
   "source": [
    "arr = np.random.randint(high = 13, low = 5 ,size = (2,3))\n",
    "print(arr, '\\n')\n",
    "\n",
    "for i in range(len(arr)):\n",
    "    for j in range(len(arr[0])):\n",
    "        if arr[i][j] % 2 == 0:\n",
    "            arr[i][j] = 0\n",
    "print(arr)\n",
    "            "
   ]
  },
  {
   "cell_type": "markdown",
   "id": "0c2086ae",
   "metadata": {},
   "source": [
    "- Используйте matplotlib для построения кривой $y= 4+x-0,5x^2$, где $x$ лежит в интервале $[-1,5]$. Используйте $\\texttt{linspace}$ для создания массива координат точек на кривой. Кривая должна быть пунктирной и показана зеленым цветом."
   ]
  },
  {
   "cell_type": "code",
   "execution_count": 72,
   "id": "db08b0bb",
   "metadata": {},
   "outputs": [
    {
     "data": {
      "image/png": "[encoded data removed]",
      "text/plain": [
       "<Figure size 640x480 with 1 Axes>"
      ]
     },
     "metadata": {},
     "output_type": "display_data"
    }
   ],
   "source": [
    "import matplotlib.pyplot as plt\n",
    "\n",
    "x = np.linspace(-1,5,100)\n",
    "y = []\n",
    "for i in x: \n",
    "    y.append(4 + i - 0.5 * i**2)\n",
    "\n",
    "plt.plot(x, y, color = 'green', linestyle = '-.', label = 'y(x)')\n",
    "plt.legend()\n",
    "plt.show()"
   ]
  },
  {
   "cell_type": "markdown",
   "id": "1a644802",
   "metadata": {},
   "source": [
    "- Сколькими способами 23 ребенка могут сесть на 23 стула на уроке математики?"
   ]
  },
  {
   "cell_type": "code",
   "execution_count": 76,
   "id": "a8d3667e",
   "metadata": {},
   "outputs": [
    {
     "data": {
      "text/plain": [
       "25852016738884976640000"
      ]
     },
     "execution_count": 76,
     "metadata": {},
     "output_type": "execute_result"
    }
   ],
   "source": [
    "import math\n",
    "math.factorial(23)"
   ]
  },
  {
   "cell_type": "markdown",
   "id": "5bed34f1",
   "metadata": {},
   "source": [
    "- Сколько различных способов есть у любых 2 из 5 учеников, чтобы сесть на 2 стула? То есть нужно посчитать количество рассадок для 2 учеников из 5 учеников чтобы сесть на 2 стула"
   ]
  },
  {
   "cell_type": "code",
   "execution_count": 81,
   "id": "6b3bb777",
   "metadata": {},
   "outputs": [
    {
     "name": "stdout",
     "output_type": "stream",
     "text": [
      "20 --> порядок важен ( №1,№2 не все равно что №2,№1)\n",
      "10 --> порядок не важен ( №1,№2 все равно что №2,№1)\n"
     ]
    }
   ],
   "source": [
    "print(f'{math.perm(5,2)} --> порядок важен ( №1,№2 не все равно что №2,№1)')\n",
    "print(f'{math.comb(5,2)} --> порядок не важен ( №1,№2 все равно что №2,№1)')"
   ]
  },
  {
   "cell_type": "markdown",
   "id": "0f2ac891",
   "metadata": {},
   "source": [
    "- У вас в классе учится 30 человек. Сколько разных футбольных команд можно сделать, где команда состоит из 7 человек (учитывайте что Галымбек, Алмас, Багдат и Багдат, Алмас, Галымбек это одна и та же команда, и мы должны учитывать только одну команду)"
   ]
  },
  {
   "cell_type": "code",
   "execution_count": 82,
   "id": "cce2f62e",
   "metadata": {},
   "outputs": [
    {
     "data": {
      "text/plain": [
       "2035800"
      ]
     },
     "execution_count": 82,
     "metadata": {},
     "output_type": "execute_result"
    }
   ],
   "source": [
    "n = 30\n",
    "p = 7\n",
    "math.comb(30,7)"
   ]
  }
 ],
 "metadata": {
  "kernelspec": {
   "display_name": "Python 3 (ipykernel)",
   "language": "python",
   "name": "python3"
  },
  "language_info": {
   "codemirror_mode": {
    "name": "ipython",
    "version": 3
   },
   "file_extension": ".py",
   "mimetype": "text/x-python",
   "name": "python",
   "nbconvert_exporter": "python",
   "pygments_lexer": "ipython3",
   "version": "3.11.5"
  }
 },
 "nbformat": 4,
 "nbformat_minor": 5
}
