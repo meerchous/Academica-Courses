{
 "cells": [
  {
   "cell_type": "markdown",
   "id": "aff4d295",
   "metadata": {},
   "source": [
    "#1. Вероятность того, что сегодня будет дождь составляет 30%, а вероятность того, что ваш заказ на зонт прибудет вовремя, составляет 40%. Вам не терпится прогуляться сегодня под дождем, и вы не можете без него!\n",
    "\n",
    "Какова вероятность того, что пойдет дождь и ваш зонт прибудет вовремя?"
   ]
  },
  {
   "cell_type": "code",
   "execution_count": 5,
   "id": "07854f6c",
   "metadata": {},
   "outputs": [
    {
     "name": "stdout",
     "output_type": "stream",
     "text": [
      "12%\n"
     ]
    }
   ],
   "source": [
    "p1 = 0.3\n",
    "p2 = 0.4\n",
    "result = p1 * p2\n",
    "print(f'{result*100}%')"
   ]
  },
  {
   "cell_type": "markdown",
   "id": "fb6fb31d",
   "metadata": {},
   "source": [
    "#2. У вас есть закрытый ящик с 10 красными, 15 зелеными и 6 черными шарами. Если мы достанем 3 шара из коробки вслепую, какая вероятность, что первый будет красным, второй зеленым, третий черным?"
   ]
  },
  {
   "cell_type": "code",
   "execution_count": 7,
   "id": "8252b9fb",
   "metadata": {},
   "outputs": [
    {
     "name": "stdout",
     "output_type": "stream",
     "text": [
      "30\n",
      "p1:0.3225806451612903\n",
      "29\n",
      "p2: 0.5\n",
      "p3: 0.20689655172413793\n",
      "3.337041156840934%\n"
     ]
    }
   ],
   "source": [
    "red = 10\n",
    "green = 15\n",
    "black = 6\n",
    "all = red + green + black\n",
    "# first pick\n",
    "p1 = red/all\n",
    "all = all - 1\n",
    "print(all)\n",
    "print(f'p1:{p1}')\n",
    "# second pick\n",
    "p2 = green/all\n",
    "all = all - 1\n",
    "print(all)\n",
    "print(f'p2: {p2}')\n",
    "# third pick \n",
    "p3 = black/all\n",
    "print(f'p3: {p3}')\n",
    "result = p1 * p2 * p3\n",
    "print(f'{result*100}%')\n"
   ]
  },
  {
   "cell_type": "markdown",
   "id": "dadbaaae",
   "metadata": {},
   "source": [
    "#3. Выполните эксперимент используя binom.rvs со 100 честными монетками, и 1.000 повторениями (size). Сохраните результат в results, и заметьте что если вы не указываете random_state то вы получите разные наборы данных."
   ]
  },
  {
   "cell_type": "code",
   "execution_count": 23,
   "id": "ba29ea95",
   "metadata": {},
   "outputs": [
    {
     "name": "stdout",
     "output_type": "stream",
     "text": [
      "[52 45 51 49 45 47 51 47 61 50 51 45 50 57 54 49 52 48 48 42 50 50 39 49\n",
      " 52 57 52 51 51 56 60 54 47 51 52 53 49 53 53 51 52 50 53 45 38 56 48 45\n",
      " 48 50 50 49 38 48 45 52 43 47 52 57 53 38 45 52 48 56 40 48 43 50 43 48\n",
      " 63 49 47 48 57 54 56 49 55 48 47 49 47 51 52 49 56 49 57 45 44 53 53 48\n",
      " 48 51 49 47 46 39 54 48 52 52 46 41 48 53 53 50 54 46 58 54 49 48 54 46\n",
      " 52 46 50 51 44 42 41 50 53 48 54 43 53 49 43 46 54 44 44 44 50 48 53 53\n",
      " 51 57 46 57 48 57 44 51 49 53 44 42 40 51 53 43 50 50 49 42 49 57 51 49\n",
      " 51 51 54 46 57 59 47 55 49 57 43 56 47 45 54 38 50 54 57 45 53 59 51 56\n",
      " 36 40 58 52 52 51 43 45 50 46 50 42 51 55 51 47 58 42 58 50 47 52 42 50\n",
      " 47 43 52 52 52 54 57 46 54 48 50 49 53 50 53 52 51 52 49 52 62 49 53 38\n",
      " 49 41 46 58 50 39 47 52 52 52 46 50 54 52 47 50 54 47 54 43 51 58 47 50\n",
      " 52 51 44 48 44 53 45 47 49 56 40 48 43 48 53 51 43 44 52 50 51 48 47 54\n",
      " 57 62 40 54 51 58 49 53 48 45 52 51 52 50 61 51 57 49 59 49 54 40 52 48\n",
      " 39 52 50 39 45 49 44 48 45 45 56 46 42 60 54 48 56 49 49 46 55 44 54 51\n",
      " 44 56 49 48 40 47 47 56 53 45 53 49 43 52 44 60 59 50 48 46 52 54 49 56\n",
      " 39 40 46 49 43 47 48 42 46 52 55 45 54 50 43 50 51 49 52 48 52 40 45 44\n",
      " 37 55 45 56 47 49 44 50 43 44 50 51 41 53 46 46 46 47 48 50 49 49 46 47\n",
      " 61 52 54 55 57 45 55 54 54 55 54 59 49 51 39 44 41 46 48 54 51 47 41 45\n",
      " 55 46 51 41 50 58 48 48 45 47 56 56 45 50 52 55 58 49 51 55 50 46 56 50\n",
      " 49 41 54 58 48 43 57 45 61 51 55 48 56 55 53 49 57 60 43 51 56 54 42 48\n",
      " 40 49 57 47 52 55 58 42 48 44 47 43 52 48 50 51 54 53 49 46 53 46 45 54\n",
      " 60 51 51 48 47 48 44 51 47 56 44 48 46 52 57 50 51 44 58 58 48 49 56 51\n",
      " 52 46 44 53 52 46 47 53 45 46 46 51 54 58 46 48 50 51 54 49 46 47 46 44\n",
      " 49 45 50 50 50 46 42 56 56 45 51 61 52 46 49 52 42 44 54 53 58 47 44 57\n",
      " 48 51 51 46 51 55 55 46 46 45 56 55 40 55 57 56 59 57 45 47 52 52 52 47\n",
      " 49 50 49 41 50 47 51 56 47 60 50 45 36 51 44 61 51 50 52 42 56 48 50 45\n",
      " 45 51 50 59 49 45 57 50 45 58 56 50 42 50 56 49 49 53 53 40 54 49 43 49\n",
      " 58 39 57 47 53 54 52 54 43 40 52 42 48 44 48 48 49 44 50 48 38 46 56 43\n",
      " 50 43 49 45 48 53 48 54 45 50 43 50 62 52 56 45 57 49 42 47 55 50 43 53\n",
      " 52 53 49 48 50 50 40 53 49 51 48 57 48 54 49 51 48 48 48 52 54 51 49 49\n",
      " 52 55 55 52 45 47 51 58 47 45 44 56 57 47 50 44 50 50 40 51 51 48 53 57\n",
      " 52 46 50 53 57 57 50 50 59 45 54 56 47 57 47 52 49 47 38 54 46 46 50 50\n",
      " 38 38 50 50 53 54 59 44 46 50 44 47 54 49 55 49 59 46 48 52 59 50 48 45\n",
      " 45 56 43 58 46 51 51 44 57 49 42 42 54 57 40 52 35 43 50 35 57 54 46 54\n",
      " 45 43 63 50 62 44 50 43 55 49 53 45 57 46 48 47 43 47 45 44 55 52 50 47\n",
      " 53 52 46 44 47 43 50 48 52 42 55 47 46 49 53 47 42 49 41 49 48 51 44 48\n",
      " 61 44 56 60 47 62 46 44 51 47 54 54 48 53 57 36 49 43 45 41 55 46 42 52\n",
      " 57 49 51 52 49 47 51 45 52 61 51 55 49 50 51 50 52 53 53 46 58 40 48 58\n",
      " 57 58 51 37 46 44 50 51 52 46 55 39 55 51 50 53 43 52 51 50 44 55 45 52\n",
      " 56 49 52 59 39 51 50 54 51 48 45 49 55 57 50 51 61 45 55 55 50 44 47 41\n",
      " 50 56 47 44 49 44 58 43 49 44 51 52 51 43 41 48 43 34 49 51 52 50 58 55\n",
      " 52 49 53 51 48 51 47 53 43 53 46 47 51 54 49 58]\n",
      "49.618\n"
     ]
    }
   ],
   "source": [
    "from scipy.stats import *\n",
    "\n",
    "\n",
    "results = binom.rvs(n = 100, p = 0.5, size = 1000,random_state = None)\n",
    "print(results)\n",
    "print(results.mean())\n"
   ]
  },
  {
   "cell_type": "markdown",
   "id": "0c2086ae",
   "metadata": {},
   "source": [
    "#4. Покажите results на гистограмме"
   ]
  },
  {
   "cell_type": "code",
   "execution_count": 25,
   "id": "db08b0bb",
   "metadata": {},
   "outputs": [
    {
     "data": {
      "image/png": "[encoded data removed]",
      "text/plain": [
       "<Figure size 640x480 with 1 Axes>"
      ]
     },
     "metadata": {},
     "output_type": "display_data"
    }
   ],
   "source": [
    "import matplotlib.pyplot as plt\n",
    "\n",
    "plt.hist(results)\n",
    "plt.show()"
   ]
  },
  {
   "cell_type": "code",
   "execution_count": null,
   "id": "b14d91cf",
   "metadata": {},
   "outputs": [],
   "source": []
  }
 ],
 "metadata": {
  "kernelspec": {
   "display_name": "Python 3 (ipykernel)",
   "language": "python",
   "name": "python3"
  },
  "language_info": {
   "codemirror_mode": {
    "name": "ipython",
    "version": 3
   },
   "file_extension": ".py",
   "mimetype": "text/x-python",
   "name": "python",
   "nbconvert_exporter": "python",
   "pygments_lexer": "ipython3",
   "version": "3.11.5"
  }
 },
 "nbformat": 4,
 "nbformat_minor": 5
}
