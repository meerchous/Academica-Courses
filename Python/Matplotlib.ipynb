{
 "cells": [
  {
   "cell_type": "markdown",
   "id": "a30b9e66",
   "metadata": {},
   "source": [
    "**Лекция: Введение в Matplotlib для визуализации данных**\n",
    "\n",
    "---\n",
    "\n",
    "### Введение\n",
    "\n",
    "Matplotlib — это одна из основных библиотек Python для создания статических, анимированных и интерактивных визуализаций. Она предлагает обширный набор инструментов для создания графиков, подходящих для многих сценариев использования.\n",
    "\n",
    "---\n",
    "\n",
    "### Основы Matplotlib\n",
    "\n",
    "**Установка и импорт**\n",
    "\n",
    "Для начала работы с Matplotlib, убедитесь, что она установлена:\n",
    "\n",
    "```bash\n",
    "pip install matplotlib\n",
    "```\n",
    "\n",
    "Импортируйте Matplotlib в вашем Python скрипте:\n",
    "\n",
    "```python\n",
    "import matplotlib.pyplot as plt\n",
    "```\n",
    "\n",
    "**Создание простого графика**\n",
    "\n",
    "Самый простой способ создать график — использовать функцию `plot`. \n",
    "\n",
    "```python\n",
    "plt.plot([1, 2, 3, 4])\n",
    "plt.ylabel('некоторые числа')\n",
    "plt.show()\n",
    "```\n",
    "\n",
    "В этом примере `plot` рисует график массива значений, а `show` отображает его.\n",
    "\n",
    "---\n",
    "\n",
    "### Виды графиков\n",
    "\n",
    "Matplotlib поддерживает различные типы графиков:\n",
    "\n",
    "1. **Линейные графики:**\n",
    "   Используются для отображения данных в виде линий на графике.\n",
    "   ```python\n",
    "   plt.plot([1, 2, 3, 4], [1, 4, 9, 16])\n",
    "   ```\n",
    "\n",
    "2. **Гистограммы:**\n",
    "   Подходят для отображения распределения данных.\n",
    "   ```python\n",
    "   plt.hist([1, 2, 1, 3, 5, 6, 1, 3], bins=3)\n",
    "   ```\n",
    "\n",
    "3. **Точечные диаграммы (scatter plots):**\n",
    "   Отлично подходят для визуализации корреляций между двумя переменными.\n",
    "   ```python\n",
    "   plt.scatter([1, 2, 3, 4], [1, 4, 9, 16])\n",
    "   ```\n",
    "\n",
    "4. **Столбчатые диаграммы (bar charts):**\n",
    "   Используются для сравнения различных групп данных.\n",
    "   ```python\n",
    "   plt.bar([1, 2, 3, 4], [1, 4, 9, 16])\n",
    "   ```\n",
    "\n",
    "---\n",
    "\n",
    "### Настройка графика\n",
    "\n",
    "**Заголовки, метки, легенда**\n",
    "\n",
    "- Заголовок графика:\n",
    "  ```python\n",
    "  plt.title('Заголовок')\n",
    "  ```\n",
    "  \n",
    "- Метки осей:\n",
    "  ```python\n",
    "  plt.xlabel('ось x')\n",
    "  plt.ylabel('ось y')\n",
    "  ```\n",
    "\n",
    "- Легенда:\n",
    "  ```python\n",
    "  plt.plot([1, 2, 3], label='Легенда')\n",
    "  plt.legend()\n",
    "  ```\n",
    "\n",
    "**Работа с несколькими графиками**\n",
    "\n",
    "Вы можете отображать несколько графиков на одном изображении с помощью `subplot`.\n",
    "\n",
    "```python\n",
    "plt.subplot(1, 2, 1)  # 1 строка, 2 колонки, 1-й подграфик\n",
    "plt.plot([1, 2, 3])\n",
    "\n",
    "plt.subplot(1, 2, 2)  # 1 строка, 2 колонки, 2-й подграфик\n",
    "plt.plot([4, 5, 6])\n",
    "```\n",
    "\n",
    "**Настройка стилей**\n",
    "\n",
    "Matplotlib позволяет настраивать стили линий, маркеров и цветов.\n",
    "\n",
    "```python\n",
    "plt.plot([1, 2, 3, 4], [1, 4, 9, 16], 'ro-')  # красные точки с соединяющими их линиями\n",
    "```\n",
    "\n",
    "---\n",
    "\n",
    "### Продвинутые темы\n",
    "\n",
    "1. **3D графики:**\n",
    "   Matplotlib также поддерживает построение 3D графиков.\n",
    "\n",
    "2. **Интерактивные графики:**\n",
    "   Используйте `matplotlib.widgets` для создания интерактивных элементов.\n",
    "\n",
    "3. **Интеграция с Pandas:**\n",
    "   Matplotlib можно легко использовать в сочетании с Pandas для визуализации данных из DataFrame.\n",
    "\n",
    "4. **Сохранение графиков:**\n",
    "   Сохраняйте графики в различных форматах, например, PNG, PDF, SVG.\n",
    "\n",
    "---\n",
    "\n",
    "### Заключение\n",
    "\n",
    "Matplotlib — это мощный инструмент для визуализации данных в Python. Он предлагает широкие возможности для создания различных типов графиков, что делает его незаменимым инструментом для анализа данных и научного исследования."
   ]
  },
  {
   "cell_type": "code",
   "execution_count": 7,
   "id": "a5d5ae1a",
   "metadata": {},
   "outputs": [
    {
     "name": "stdout",
     "output_type": "stream",
     "text": [
      "Requirement already satisfied: matplotlib in c:\\programdata\\anaconda3\\lib\\site-packages (3.3.4)\n",
      "Requirement already satisfied: kiwisolver>=1.0.1 in c:\\programdata\\anaconda3\\lib\\site-packages (from matplotlib) (1.3.1)\n",
      "Requirement already satisfied: cycler>=0.10 in c:\\programdata\\anaconda3\\lib\\site-packages (from matplotlib) (0.10.0)\n",
      "Requirement already satisfied: pillow>=6.2.0 in c:\\programdata\\anaconda3\\lib\\site-packages (from matplotlib) (8.2.0)\n",
      "Requirement already satisfied: python-dateutil>=2.1 in c:\\programdata\\anaconda3\\lib\\site-packages (from matplotlib) (2.8.1)\n",
      "Requirement already satisfied: numpy>=1.15 in c:\\programdata\\anaconda3\\lib\\site-packages (from matplotlib) (1.24.1)\n",
      "Requirement already satisfied: pyparsing!=2.0.4,!=2.1.2,!=2.1.6,>=2.0.3 in c:\\programdata\\anaconda3\\lib\\site-packages (from matplotlib) (2.4.7)Note: you may need to restart the kernel to use updated packages.\n",
      "Requirement already satisfied: six in c:\\programdata\\anaconda3\\lib\\site-packages (from cycler>=0.10->matplotlib) (1.15.0)\n",
      "\n"
     ]
    }
   ],
   "source": [
    "pip install matplotlib"
   ]
  },
  {
   "cell_type": "code",
   "execution_count": 8,
   "id": "1f156f2d",
   "metadata": {},
   "outputs": [],
   "source": [
    "import matplotlib.pyplot as plt"
   ]
  },
  {
   "cell_type": "code",
   "execution_count": 12,
   "id": "818fe94f",
   "metadata": {},
   "outputs": [
    {
     "data": {
      "image/png": "[encoded data removed]",
      "text/plain": [
       "<Figure size 432x288 with 1 Axes>"
      ]
     },
     "metadata": {
      "needs_background": "light"
     },
     "output_type": "display_data"
    }
   ],
   "source": [
    "plt.plot([1, 2, 3, 4])\n",
    "plt.ylabel('некоторые числа')\n",
    "plt.title('Заголовок')\n",
    "plt.show()"
   ]
  },
  {
   "cell_type": "code",
   "execution_count": 14,
   "id": "f670a40b",
   "metadata": {},
   "outputs": [
    {
     "data": {
      "image/png": "[encoded data removed]",
      "text/plain": [
       "<Figure size 432x288 with 2 Axes>"
      ]
     },
     "metadata": {
      "needs_background": "light"
     },
     "output_type": "display_data"
    }
   ],
   "source": [
    "plt.subplot(1, 2, 1)  # 1 строка, 2 колонки, 1-й подграфик\n",
    "plt.plot([1, 2, 3])\n",
    "\n",
    "plt.subplot(1, 2, 2)  # 1 строка, 2 колонки, 2-й подграфик\n",
    "plt.plot([4, 5, 6])\n",
    "\n",
    "plt.show()"
   ]
  },
  {
   "cell_type": "code",
   "execution_count": 16,
   "id": "63b6c7c6",
   "metadata": {},
   "outputs": [
    {
     "data": {
      "image/png": "[encoded data removed]",
      "text/plain": [
       "<Figure size 432x288 with 1 Axes>"
      ]
     },
     "metadata": {
      "needs_background": "light"
     },
     "output_type": "display_data"
    }
   ],
   "source": [
    "plt.plot([1, 2, 3, 4], [1, 4, 9, 16], 'ro-')\n",
    "plt.show()"
   ]
  },
  {
   "cell_type": "code",
   "execution_count": null,
   "id": "b4ba51f1",
   "metadata": {},
   "outputs": [],
   "source": []
  },
  {
   "cell_type": "code",
   "execution_count": null,
   "id": "15bde071",
   "metadata": {},
   "outputs": [],
   "source": []
  },
  {
   "cell_type": "code",
   "execution_count": null,
   "id": "b5b55cb1",
   "metadata": {},
   "outputs": [],
   "source": []
  },
  {
   "cell_type": "code",
   "execution_count": null,
   "id": "c1d54538",
   "metadata": {},
   "outputs": [],
   "source": []
  },
  {
   "cell_type": "code",
   "execution_count": null,
   "id": "8af4ed27",
   "metadata": {},
   "outputs": [],
   "source": []
  },
  {
   "cell_type": "code",
   "execution_count": null,
   "id": "fd1038df",
   "metadata": {},
   "outputs": [],
   "source": []
  },
  {
   "cell_type": "code",
   "execution_count": null,
   "id": "9a741285",
   "metadata": {},
   "outputs": [],
   "source": []
  },
  {
   "cell_type": "code",
   "execution_count": null,
   "id": "45ef0f11",
   "metadata": {},
   "outputs": [],
   "source": []
  },
  {
   "cell_type": "markdown",
   "id": "b78313c7",
   "metadata": {},
   "source": [
    "**Лекция: Анализ датасета Iris с использованием Matplotlib в Python**\n",
    "\n",
    "---\n",
    "\n",
    "### Введение\n",
    "\n",
    "В этой лекции мы рассмотрим анализ и визуализацию знаменитого датасета Iris, который встроен в библиотеку Seaborn (библиотека визуализации, построенная на Matplotlib). Датасет Iris содержит информацию о трех видах ириса (setosa, versicolor и virginica), каждый из которых описан четырьмя характеристиками: длиной и шириной чашелистика и длиной и шириной лепестка.\n",
    "\n",
    "---\n",
    "\n",
    "### Шаг 1: Загрузка данных\n",
    "\n",
    "Датасет Iris можно загрузить с помощью Seaborn, который предоставляет его в удобном формате DataFrame Pandas.\n",
    "\n",
    "```python\n",
    "import seaborn as sns\n",
    "import matplotlib.pyplot as plt\n",
    "import pandas as pd\n",
    "\n",
    "iris = sns.load_dataset('iris')\n",
    "```\n",
    "\n",
    "### Шаг 2: Основная статистика\n",
    "\n",
    "```python\n",
    "print(iris.head())\n",
    "print(iris.describe())\n",
    "```\n",
    "\n",
    "### Шаг 3: Визуализация данных с использованием Matplotlib\n",
    "\n",
    "#### Гистограммы\n",
    "\n",
    "Гистограммы используются для визуализации распределений характеристик.\n",
    "\n",
    "```python\n",
    "plt.figure(figsize=(10, 6))\n",
    "iris['sepal_length'].plot(kind='hist', bins=20, title='Sepal Length Distribution')\n",
    "plt.show()\n",
    "```\n",
    "\n",
    "#### Диаграмма размаха\n",
    "\n",
    "Диаграммы размаха (или ящик с усами) отлично подходят для визуального представления статистических распределений.\n",
    "\n",
    "```python\n",
    "plt.figure(figsize=(10, 6))\n",
    "iris.boxplot(column=['sepal_length', 'sepal_width', 'petal_length', 'petal_width'])\n",
    "plt.title('Iris Boxplot')\n",
    "plt.show()\n",
    "```\n",
    "\n",
    "#### Scatter Plot\n",
    "\n",
    "Scatter plot помогает визуализировать взаимосвязь между двумя переменными.\n",
    "\n",
    "```python\n",
    "plt.figure(figsize=(10, 6))\n",
    "plt.scatter(iris['sepal_length'], iris['sepal_width'])\n",
    "plt.title('Sepal Length vs Width')\n",
    "plt.xlabel('Sepal Length')\n",
    "plt.ylabel('Sepal Width')\n",
    "plt.show()\n",
    "```\n",
    "\n",
    "### Шаг 4: Расширенная визуализация с Seaborn\n",
    "\n",
    "Seaborn упрощает создание более сложных визуализаций, например, парных графиков.\n",
    "\n",
    "```python\n",
    "sns.pairplot(iris, hue='species')\n",
    "plt.show()\n",
    "```\n"
   ]
  },
  {
   "cell_type": "code",
   "execution_count": 17,
   "id": "6ef25ef9",
   "metadata": {},
   "outputs": [],
   "source": [
    "import seaborn as sns\n",
    "import matplotlib.pyplot as plt\n",
    "import pandas as pd\n",
    "\n",
    "iris = sns.load_dataset('iris')"
   ]
  },
  {
   "cell_type": "code",
   "execution_count": 18,
   "id": "2e8ae226",
   "metadata": {},
   "outputs": [
    {
     "data": {
      "text/html": [
       "<div>\n",
       "<style scoped>\n",
       "    .dataframe tbody tr th:only-of-type {\n",
       "        vertical-align: middle;\n",
       "    }\n",
       "\n",
       "    .dataframe tbody tr th {\n",
       "        vertical-align: top;\n",
       "    }\n",
       "\n",
       "    .dataframe thead th {\n",
       "        text-align: right;\n",
       "    }\n",
       "</style>\n",
       "<table border=\"1\" class=\"dataframe\">\n",
       "  <thead>\n",
       "    <tr style=\"text-align: right;\">\n",
       "      <th></th>\n",
       "      <th>sepal_length</th>\n",
       "      <th>sepal_width</th>\n",
       "      <th>petal_length</th>\n",
       "      <th>petal_width</th>\n",
       "      <th>species</th>\n",
       "    </tr>\n",
       "  </thead>\n",
       "  <tbody>\n",
       "    <tr>\n",
       "      <th>0</th>\n",
       "      <td>5.1</td>\n",
       "      <td>3.5</td>\n",
       "      <td>1.4</td>\n",
       "      <td>0.2</td>\n",
       "      <td>setosa</td>\n",
       "    </tr>\n",
       "    <tr>\n",
       "      <th>1</th>\n",
       "      <td>4.9</td>\n",
       "      <td>3.0</td>\n",
       "      <td>1.4</td>\n",
       "      <td>0.2</td>\n",
       "      <td>setosa</td>\n",
       "    </tr>\n",
       "    <tr>\n",
       "      <th>2</th>\n",
       "      <td>4.7</td>\n",
       "      <td>3.2</td>\n",
       "      <td>1.3</td>\n",
       "      <td>0.2</td>\n",
       "      <td>setosa</td>\n",
       "    </tr>\n",
       "    <tr>\n",
       "      <th>3</th>\n",
       "      <td>4.6</td>\n",
       "      <td>3.1</td>\n",
       "      <td>1.5</td>\n",
       "      <td>0.2</td>\n",
       "      <td>setosa</td>\n",
       "    </tr>\n",
       "    <tr>\n",
       "      <th>4</th>\n",
       "      <td>5.0</td>\n",
       "      <td>3.6</td>\n",
       "      <td>1.4</td>\n",
       "      <td>0.2</td>\n",
       "      <td>setosa</td>\n",
       "    </tr>\n",
       "  </tbody>\n",
       "</table>\n",
       "</div>"
      ],
      "text/plain": [
       "   sepal_length  sepal_width  petal_length  petal_width species\n",
       "0           5.1          3.5           1.4          0.2  setosa\n",
       "1           4.9          3.0           1.4          0.2  setosa\n",
       "2           4.7          3.2           1.3          0.2  setosa\n",
       "3           4.6          3.1           1.5          0.2  setosa\n",
       "4           5.0          3.6           1.4          0.2  setosa"
      ]
     },
     "execution_count": 18,
     "metadata": {},
     "output_type": "execute_result"
    }
   ],
   "source": [
    "iris.head()"
   ]
  },
  {
   "cell_type": "code",
   "execution_count": 19,
   "id": "cc928935",
   "metadata": {},
   "outputs": [
    {
     "data": {
      "text/html": [
       "<div>\n",
       "<style scoped>\n",
       "    .dataframe tbody tr th:only-of-type {\n",
       "        vertical-align: middle;\n",
       "    }\n",
       "\n",
       "    .dataframe tbody tr th {\n",
       "        vertical-align: top;\n",
       "    }\n",
       "\n",
       "    .dataframe thead th {\n",
       "        text-align: right;\n",
       "    }\n",
       "</style>\n",
       "<table border=\"1\" class=\"dataframe\">\n",
       "  <thead>\n",
       "    <tr style=\"text-align: right;\">\n",
       "      <th></th>\n",
       "      <th>sepal_length</th>\n",
       "      <th>sepal_width</th>\n",
       "      <th>petal_length</th>\n",
       "      <th>petal_width</th>\n",
       "    </tr>\n",
       "  </thead>\n",
       "  <tbody>\n",
       "    <tr>\n",
       "      <th>count</th>\n",
       "      <td>150.000000</td>\n",
       "      <td>150.000000</td>\n",
       "      <td>150.000000</td>\n",
       "      <td>150.000000</td>\n",
       "    </tr>\n",
       "    <tr>\n",
       "      <th>mean</th>\n",
       "      <td>5.843333</td>\n",
       "      <td>3.057333</td>\n",
       "      <td>3.758000</td>\n",
       "      <td>1.199333</td>\n",
       "    </tr>\n",
       "    <tr>\n",
       "      <th>std</th>\n",
       "      <td>0.828066</td>\n",
       "      <td>0.435866</td>\n",
       "      <td>1.765298</td>\n",
       "      <td>0.762238</td>\n",
       "    </tr>\n",
       "    <tr>\n",
       "      <th>min</th>\n",
       "      <td>4.300000</td>\n",
       "      <td>2.000000</td>\n",
       "      <td>1.000000</td>\n",
       "      <td>0.100000</td>\n",
       "    </tr>\n",
       "    <tr>\n",
       "      <th>25%</th>\n",
       "      <td>5.100000</td>\n",
       "      <td>2.800000</td>\n",
       "      <td>1.600000</td>\n",
       "      <td>0.300000</td>\n",
       "    </tr>\n",
       "    <tr>\n",
       "      <th>50%</th>\n",
       "      <td>5.800000</td>\n",
       "      <td>3.000000</td>\n",
       "      <td>4.350000</td>\n",
       "      <td>1.300000</td>\n",
       "    </tr>\n",
       "    <tr>\n",
       "      <th>75%</th>\n",
       "      <td>6.400000</td>\n",
       "      <td>3.300000</td>\n",
       "      <td>5.100000</td>\n",
       "      <td>1.800000</td>\n",
       "    </tr>\n",
       "    <tr>\n",
       "      <th>max</th>\n",
       "      <td>7.900000</td>\n",
       "      <td>4.400000</td>\n",
       "      <td>6.900000</td>\n",
       "      <td>2.500000</td>\n",
       "    </tr>\n",
       "  </tbody>\n",
       "</table>\n",
       "</div>"
      ],
      "text/plain": [
       "       sepal_length  sepal_width  petal_length  petal_width\n",
       "count    150.000000   150.000000    150.000000   150.000000\n",
       "mean       5.843333     3.057333      3.758000     1.199333\n",
       "std        0.828066     0.435866      1.765298     0.762238\n",
       "min        4.300000     2.000000      1.000000     0.100000\n",
       "25%        5.100000     2.800000      1.600000     0.300000\n",
       "50%        5.800000     3.000000      4.350000     1.300000\n",
       "75%        6.400000     3.300000      5.100000     1.800000\n",
       "max        7.900000     4.400000      6.900000     2.500000"
      ]
     },
     "execution_count": 19,
     "metadata": {},
     "output_type": "execute_result"
    }
   ],
   "source": [
    "iris.describe()"
   ]
  },
  {
   "cell_type": "code",
   "execution_count": 20,
   "id": "c8b02738",
   "metadata": {},
   "outputs": [
    {
     "data": {
      "text/plain": [
       "(150, 5)"
      ]
     },
     "execution_count": 20,
     "metadata": {},
     "output_type": "execute_result"
    }
   ],
   "source": [
    "iris.shape"
   ]
  },
  {
   "cell_type": "code",
   "execution_count": 21,
   "id": "123d8446",
   "metadata": {},
   "outputs": [
    {
     "name": "stdout",
     "output_type": "stream",
     "text": [
      "<class 'pandas.core.frame.DataFrame'>\n",
      "RangeIndex: 150 entries, 0 to 149\n",
      "Data columns (total 5 columns):\n",
      " #   Column        Non-Null Count  Dtype  \n",
      "---  ------        --------------  -----  \n",
      " 0   sepal_length  150 non-null    float64\n",
      " 1   sepal_width   150 non-null    float64\n",
      " 2   petal_length  150 non-null    float64\n",
      " 3   petal_width   150 non-null    float64\n",
      " 4   species       150 non-null    object \n",
      "dtypes: float64(4), object(1)\n",
      "memory usage: 6.0+ KB\n"
     ]
    }
   ],
   "source": [
    "iris.info()"
   ]
  },
  {
   "cell_type": "code",
   "execution_count": 36,
   "id": "4c7c0023",
   "metadata": {},
   "outputs": [
    {
     "data": {
      "image/png": "[encoded data removed]",
      "text/plain": [
       "<Figure size 720x432 with 1 Axes>"
      ]
     },
     "metadata": {
      "needs_background": "light"
     },
     "output_type": "display_data"
    }
   ],
   "source": [
    "plt.figure(figsize=(10, 6))\n",
    "iris['petal_length'].plot(kind='hist', bins=20)\n",
    "plt.title('Sepal Length Distribution')\n",
    "plt.show()"
   ]
  },
  {
   "cell_type": "code",
   "execution_count": 24,
   "id": "c51a6df3",
   "metadata": {},
   "outputs": [
    {
     "data": {
      "text/plain": [
       "0      5.1\n",
       "1      4.9\n",
       "2      4.7\n",
       "3      4.6\n",
       "4      5.0\n",
       "      ... \n",
       "145    6.7\n",
       "146    6.3\n",
       "147    6.5\n",
       "148    6.2\n",
       "149    5.9\n",
       "Name: sepal_length, Length: 150, dtype: float64"
      ]
     },
     "execution_count": 24,
     "metadata": {},
     "output_type": "execute_result"
    }
   ],
   "source": [
    "iris['sepal_length'].plot"
   ]
  },
  {
   "cell_type": "code",
   "execution_count": 34,
   "id": "e4a635b4",
   "metadata": {},
   "outputs": [
    {
     "data": {
      "image/png": "[encoded data removed]",
      "text/plain": [
       "<Figure size 720x432 with 1 Axes>"
      ]
     },
     "metadata": {
      "needs_background": "light"
     },
     "output_type": "display_data"
    }
   ],
   "source": [
    "plt.figure(figsize=(10, 6))\n",
    "iris.boxplot(column=['sepal_length', 'sepal_width', 'petal_length', 'petal_width'])\n",
    "plt.title('Iris Boxplot')\n",
    "plt.show()"
   ]
  },
  {
   "cell_type": "code",
   "execution_count": 38,
   "id": "813a59c8",
   "metadata": {},
   "outputs": [
    {
     "data": {
      "image/png": "[encoded data removed]",
      "text/plain": [
       "<Figure size 432x288 with 1 Axes>"
      ]
     },
     "metadata": {
      "needs_background": "light"
     },
     "output_type": "display_data"
    }
   ],
   "source": [
    "#plt.figure(figsize=(10, 6))\n",
    "plt.scatter(iris['sepal_length'], iris['sepal_width'])\n",
    "plt.title('Sepal Length vs Width')\n",
    "plt.xlabel('Sepal Length')\n",
    "plt.ylabel('Sepal Width')\n",
    "plt.show()"
   ]
  },
  {
   "cell_type": "code",
   "execution_count": null,
   "id": "e1cc1bbd",
   "metadata": {},
   "outputs": [],
   "source": []
  },
  {
   "cell_type": "code",
   "execution_count": null,
   "id": "5d638f0b",
   "metadata": {},
   "outputs": [],
   "source": []
  },
  {
   "cell_type": "code",
   "execution_count": null,
   "id": "8e807bb1",
   "metadata": {},
   "outputs": [],
   "source": []
  },
  {
   "cell_type": "code",
   "execution_count": null,
   "id": "b3fda855",
   "metadata": {},
   "outputs": [],
   "source": []
  },
  {
   "cell_type": "code",
   "execution_count": null,
   "id": "1aca09ba",
   "metadata": {},
   "outputs": [],
   "source": []
  },
  {
   "cell_type": "markdown",
   "id": "3d277d24",
   "metadata": {},
   "source": [
    "**Лекция: Введение в Seaborn для визуализации данных**\n",
    "\n",
    "---\n",
    "\n",
    "### Введение в Seaborn\n",
    "\n",
    "Seaborn — это библиотека визуализации данных в Python, основанная на Matplotlib. Она предоставляет более высокоуровневый интерфейс для создания привлекательных и информативных статистических графиков.\n",
    "\n",
    "---\n",
    "\n",
    "### Особенности Seaborn\n",
    "\n",
    "- **Встроенные датасеты:** Seaborn включает в себя несколько встроенных датасетов, которые можно использовать для изучения возможностей библиотеки.\n",
    "- **Удобство использования:** Seaborn упрощает создание сложных визуализаций, часто одной строкой кода.\n",
    "- **Интеграция с Pandas:** Seaborn легко работает с DataFrame Pandas.\n",
    "- **Привлекательные стили по умолчанию:** Seaborn автоматически настраивает стили Matplotlib, делая графики более привлекательными.\n",
    "\n",
    "---\n",
    "\n",
    "### Пример с датасетом Tips\n",
    "\n",
    "Датасет `tips` содержит данные о чаевых, оставленных посетителями ресторана.\n",
    "\n",
    "**Шаг 1: Загрузка данных и первичный анализ**\n",
    "\n",
    "```python\n",
    "import seaborn as sns\n",
    "import matplotlib.pyplot as plt\n",
    "\n",
    "tips = sns.load_dataset('tips')\n",
    "print(tips.head())\n",
    "```\n",
    "\n",
    "### Виды графиков в Seaborn\n",
    "\n",
    "#### Гистограммы и KDE\n",
    "\n",
    "Для визуализации распределения одной переменной используются гистограммы и ядерные оценки плотности (KDE).\n",
    "\n",
    "```python\n",
    "sns.histplot(tips['total_bill'], kde=True)\n",
    "plt.title('Распределение общего счета')\n",
    "plt.show()\n",
    "```\n",
    "\n",
    "#### Совмещение гистограмм и Scatter Plots\n",
    "\n",
    "Scatter plots отлично подходят для визуализации взаимосвязей между двумя числовыми переменными. `jointplot` совмещает scatter plots и гистограммы.\n",
    "\n",
    "```python\n",
    "sns.jointplot(x='total_bill', y='tip', data=tips)\n",
    "plt.show()\n",
    "```\n",
    "\n",
    "#### Boxplots\n",
    "\n",
    "Boxplots полезны для визуализации распределения по категориальной переменной и сравнения нескольких распределений.\n",
    "\n",
    "```python\n",
    "sns.boxplot(x='day', y='total_bill', data=tips)\n",
    "plt.title('Boxplot общего счета по дням недели')\n",
    "plt.show()\n",
    "```\n",
    "\n",
    "\n",
    "#### Pair Plots\n",
    "\n",
    "Pair plots создают матрицу всех парных отношений между числовыми переменными в DataFrame.\n",
    "\n",
    "```python\n",
    "sns.pairplot(tips)\n",
    "plt.show()\n",
    "```\n",
    "\n",
    "#### Heatmaps\n",
    "\n",
    "Heatmaps эффективны для визуализации корреляционных матриц и других данных, где цвета кодируют значения.\n",
    "\n",
    "```python\n",
    "corr = tips.corr()\n",
    "sns.heatmap(corr, annot=True)\n",
    "plt.show()\n",
    "```\n",
    "\n",
    "---\n"
   ]
  },
  {
   "cell_type": "code",
   "execution_count": 39,
   "id": "cc707b38",
   "metadata": {},
   "outputs": [
    {
     "name": "stdout",
     "output_type": "stream",
     "text": [
      "   total_bill   tip     sex smoker  day    time  size\n",
      "0       16.99  1.01  Female     No  Sun  Dinner     2\n",
      "1       10.34  1.66    Male     No  Sun  Dinner     3\n",
      "2       21.01  3.50    Male     No  Sun  Dinner     3\n",
      "3       23.68  3.31    Male     No  Sun  Dinner     2\n",
      "4       24.59  3.61  Female     No  Sun  Dinner     4\n"
     ]
    }
   ],
   "source": [
    "tips = sns.load_dataset('tips')\n",
    "print(tips.head())"
   ]
  },
  {
   "cell_type": "code",
   "execution_count": 40,
   "id": "f0029595",
   "metadata": {},
   "outputs": [
    {
     "data": {
      "text/html": [
       "<div>\n",
       "<style scoped>\n",
       "    .dataframe tbody tr th:only-of-type {\n",
       "        vertical-align: middle;\n",
       "    }\n",
       "\n",
       "    .dataframe tbody tr th {\n",
       "        vertical-align: top;\n",
       "    }\n",
       "\n",
       "    .dataframe thead th {\n",
       "        text-align: right;\n",
       "    }\n",
       "</style>\n",
       "<table border=\"1\" class=\"dataframe\">\n",
       "  <thead>\n",
       "    <tr style=\"text-align: right;\">\n",
       "      <th></th>\n",
       "      <th>total_bill</th>\n",
       "      <th>tip</th>\n",
       "      <th>size</th>\n",
       "    </tr>\n",
       "  </thead>\n",
       "  <tbody>\n",
       "    <tr>\n",
       "      <th>count</th>\n",
       "      <td>244.000000</td>\n",
       "      <td>244.000000</td>\n",
       "      <td>244.000000</td>\n",
       "    </tr>\n",
       "    <tr>\n",
       "      <th>mean</th>\n",
       "      <td>19.785943</td>\n",
       "      <td>2.998279</td>\n",
       "      <td>2.569672</td>\n",
       "    </tr>\n",
       "    <tr>\n",
       "      <th>std</th>\n",
       "      <td>8.902412</td>\n",
       "      <td>1.383638</td>\n",
       "      <td>0.951100</td>\n",
       "    </tr>\n",
       "    <tr>\n",
       "      <th>min</th>\n",
       "      <td>3.070000</td>\n",
       "      <td>1.000000</td>\n",
       "      <td>1.000000</td>\n",
       "    </tr>\n",
       "    <tr>\n",
       "      <th>25%</th>\n",
       "      <td>13.347500</td>\n",
       "      <td>2.000000</td>\n",
       "      <td>2.000000</td>\n",
       "    </tr>\n",
       "    <tr>\n",
       "      <th>50%</th>\n",
       "      <td>17.795000</td>\n",
       "      <td>2.900000</td>\n",
       "      <td>2.000000</td>\n",
       "    </tr>\n",
       "    <tr>\n",
       "      <th>75%</th>\n",
       "      <td>24.127500</td>\n",
       "      <td>3.562500</td>\n",
       "      <td>3.000000</td>\n",
       "    </tr>\n",
       "    <tr>\n",
       "      <th>max</th>\n",
       "      <td>50.810000</td>\n",
       "      <td>10.000000</td>\n",
       "      <td>6.000000</td>\n",
       "    </tr>\n",
       "  </tbody>\n",
       "</table>\n",
       "</div>"
      ],
      "text/plain": [
       "       total_bill         tip        size\n",
       "count  244.000000  244.000000  244.000000\n",
       "mean    19.785943    2.998279    2.569672\n",
       "std      8.902412    1.383638    0.951100\n",
       "min      3.070000    1.000000    1.000000\n",
       "25%     13.347500    2.000000    2.000000\n",
       "50%     17.795000    2.900000    2.000000\n",
       "75%     24.127500    3.562500    3.000000\n",
       "max     50.810000   10.000000    6.000000"
      ]
     },
     "execution_count": 40,
     "metadata": {},
     "output_type": "execute_result"
    }
   ],
   "source": [
    "tips.describe()"
   ]
  },
  {
   "cell_type": "code",
   "execution_count": 41,
   "id": "d0694ae5",
   "metadata": {},
   "outputs": [
    {
     "data": {
      "text/plain": [
       "['No', 'Yes']\n",
       "Categories (2, object): ['No', 'Yes']"
      ]
     },
     "execution_count": 41,
     "metadata": {},
     "output_type": "execute_result"
    }
   ],
   "source": [
    "tips['smoker'].unique()"
   ]
  },
  {
   "cell_type": "code",
   "execution_count": 42,
   "id": "f393d08b",
   "metadata": {},
   "outputs": [
    {
     "data": {
      "image/png": "[encoded data removed]",
      "text/plain": [
       "<Figure size 432x288 with 1 Axes>"
      ]
     },
     "metadata": {
      "needs_background": "light"
     },
     "output_type": "display_data"
    }
   ],
   "source": [
    "sns.histplot(tips['total_bill'], kde=True)\n",
    "plt.title('Распределение общего счета')\n",
    "plt.show()"
   ]
  },
  {
   "cell_type": "code",
   "execution_count": 46,
   "id": "b43fce51",
   "metadata": {},
   "outputs": [
    {
     "data": {
      "image/png": "[encoded data removed]",
      "text/plain": [
       "<Figure size 432x288 with 1 Axes>"
      ]
     },
     "metadata": {
      "needs_background": "light"
     },
     "output_type": "display_data"
    }
   ],
   "source": [
    "sns.histplot(tips['tip'], kde=True)\n",
    "plt.title('Распределение общего счета')\n",
    "plt.show()"
   ]
  },
  {
   "cell_type": "code",
   "execution_count": 44,
   "id": "e7e3e73b",
   "metadata": {},
   "outputs": [
    {
     "data": {
      "image/png": "[encoded data removed]",
      "text/plain": [
       "<Figure size 432x432 with 3 Axes>"
      ]
     },
     "metadata": {
      "needs_background": "light"
     },
     "output_type": "display_data"
    }
   ],
   "source": [
    "sns.jointplot(x='total_bill', y='tip', data=tips)\n",
    "plt.show()"
   ]
  },
  {
   "cell_type": "code",
   "execution_count": 47,
   "id": "d5e1b49a",
   "metadata": {},
   "outputs": [
    {
     "data": {
      "image/png": "[encoded data removed]",
      "text/plain": [
       "<Figure size 432x288 with 1 Axes>"
      ]
     },
     "metadata": {
      "needs_background": "light"
     },
     "output_type": "display_data"
    }
   ],
   "source": [
    "sns.boxplot(x='day', y='total_bill', data=tips)\n",
    "plt.title('Boxplot общего счета по дням недели')\n",
    "plt.show()"
   ]
  },
  {
   "cell_type": "code",
   "execution_count": 48,
   "id": "1cb249dd",
   "metadata": {},
   "outputs": [
    {
     "data": {
      "image/png": "[encoded data removed]",
      "text/plain": [
       "<Figure size 540x540 with 12 Axes>"
      ]
     },
     "metadata": {
      "needs_background": "light"
     },
     "output_type": "display_data"
    }
   ],
   "source": [
    "sns.pairplot(tips)\n",
    "plt.show()"
   ]
  },
  {
   "cell_type": "code",
   "execution_count": 49,
   "id": "1e01d4e1",
   "metadata": {},
   "outputs": [
    {
     "data": {
      "image/png": "[encoded data removed]",
      "text/plain": [
       "<Figure size 432x288 with 2 Axes>"
      ]
     },
     "metadata": {
      "needs_background": "light"
     },
     "output_type": "display_data"
    }
   ],
   "source": [
    "corr = tips.corr()\n",
    "sns.heatmap(corr, annot=True)\n",
    "plt.show()"
   ]
  },
  {
   "cell_type": "code",
   "execution_count": null,
   "id": "dd20cf92",
   "metadata": {},
   "outputs": [],
   "source": []
  }
 ],
 "metadata": {
  "kernelspec": {
   "display_name": "Python 3 (ipykernel)",
   "language": "python",
   "name": "python3"
  },
  "language_info": {
   "codemirror_mode": {
    "name": "ipython",
    "version": 3
   },
   "file_extension": ".py",
   "mimetype": "text/x-python",
   "name": "python",
   "nbconvert_exporter": "python",
   "pygments_lexer": "ipython3",
   "version": "3.11.5"
  }
 },
 "nbformat": 4,
 "nbformat_minor": 5
}
