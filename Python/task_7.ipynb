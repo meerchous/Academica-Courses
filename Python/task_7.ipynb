{
 "cells": [
  {
   "cell_type": "code",
   "execution_count": 10,
   "id": "51b846d0",
   "metadata": {},
   "outputs": [
    {
     "name": "stdout",
     "output_type": "stream",
     "text": [
      "5\n",
      "dcba\n",
      "True\n",
      "Elderbrook\n"
     ]
    }
   ],
   "source": [
    "'''Задача 1: Модуль для обработки строк\n",
    "Создайте модуль string_operations.py, который включает следующие функции:\n",
    "1. count_vowels(str) - возвращает количество гласных букв в строке.\n",
    "2. reverse_string(str) - возвращает строку в обратном порядке.\n",
    "3. is_palindrome(str) - проверяет, является ли строка палиндромом.\n",
    "4. capitalize_string(str) - возвращает строку, где каждое слово начинается с большой буквы.'''\n",
    "\n",
    "import string_operations as so\n",
    "\n",
    "print(so.count_vowels('Academica'))\n",
    "print(so.reverse_string('abcd'))\n",
    "print(so.is_palindrome('GOg'))\n",
    "print(so.capitalize_string('elderbrook'))"
   ]
  },
  {
   "cell_type": "code",
   "execution_count": 15,
   "id": "556a5276",
   "metadata": {},
   "outputs": [
    {
     "name": "stdout",
     "output_type": "stream",
     "text": [
      "5.385164807134504\n"
     ]
    }
   ],
   "source": [
    "'''Задача 2: Класс Точка\n",
    "Определите класс Point, который представляет точку в двумерном пространстве.\n",
    "- Конструктор, принимающий координаты x и y.\n",
    "- Метод distance_to_origin(), возвращающий расстояние от точки до начала координат.'''\n",
    "\n",
    "from math import *\n",
    "class Point():\n",
    "    def __init__(self,x,y):\n",
    "        self.x = x\n",
    "        self.y = y\n",
    "    \n",
    "    def distance_to_origin(self):\n",
    "        return sqrt(self.x**2+self.y**2)\n",
    "    \n",
    "test = Point(5,2)\n",
    "print(test.distance_to_origin())\n"
   ]
  },
  {
   "cell_type": "code",
   "execution_count": 2,
   "id": "4f917306",
   "metadata": {},
   "outputs": [
    {
     "name": "stdout",
     "output_type": "stream",
     "text": [
      "621.37119\n",
      "50.0\n",
      "US gallons: 3.962580786\n",
      "UK gallons: 3.2995373595\n"
     ]
    }
   ],
   "source": [
    "'''Задача 3: Модуль конвертации единиц\n",
    "Создайте модуль unit_converters.py, который содержит функции для конвертации единиц измерения:\n",
    "1. km_to_miles(km) - переводит километры в мили.\n",
    "2. celsius_to_fahrenheit(celsius) - переводит градусы Цельсия в градусы Фаренгейта.\n",
    "3. liters_to_gallons(liters) - переводит литры в галлоны.'''\n",
    "\n",
    "import unit_converters as uc\n",
    "\n",
    "print(uc.km_to_miles(1000))\n",
    "print(uc.celsius_to_fahrenheit(10))\n",
    "uc.liters_to_gallons(15)\n"
   ]
  },
  {
   "cell_type": "code",
   "execution_count": 8,
   "id": "c2ad1e38",
   "metadata": {},
   "outputs": [
    {
     "name": "stdout",
     "output_type": "stream",
     "text": [
      "True\n"
     ]
    }
   ],
   "source": [
    "'''Задача 4: Класс Книга\n",
    "Определите класс Book, который содержит информацию о книге:\n",
    "- Атрибуты title, author, pages.\n",
    "- Метод is_long(), который возвращает True, если книга содержит более 500 страниц.'''\n",
    "\n",
    "class Book():\n",
    "    def __init__(self,title,author,pages):\n",
    "        self.title = title\n",
    "        self.author = author\n",
    "        self.pages = pages\n",
    "    def is_long(self):\n",
    "        return self.pages>500\n",
    "\n",
    "test = Book('Iceman','Cubrick',543)\n",
    "print(test.is_long())"
   ]
  },
  {
   "cell_type": "code",
   "execution_count": 11,
   "id": "f5bf3d1a",
   "metadata": {},
   "outputs": [
    {
     "name": "stdout",
     "output_type": "stream",
     "text": [
      "4.25\n",
      "None\n",
      "4.4\n"
     ]
    }
   ],
   "source": [
    "'''Задача 5: Класс \"Студент\"\n",
    "Создайте класс Student, который моделирует студента.\n",
    "- Конструктор, который принимает имя студента и инициализирует атрибуты name и grades (пустой список).\n",
    "- Метод add_grade(grade), который добавляет оценку в список оценок.\n",
    "- Метод get_average(), возвращающий средний балл студента.'''\n",
    "\n",
    "class Student():\n",
    "    def __init__(self,name,grades):\n",
    "        self.name = name\n",
    "        self.grades = grades\n",
    "    \n",
    "    def add_grade(self,grade):\n",
    "        self.grades.append(grade)\n",
    "    \n",
    "    def get_average(self):\n",
    "        res = 0 \n",
    "        for i in self.grades:\n",
    "            res+=i\n",
    "        return res/len(self.grades)\n",
    "    \n",
    "test = Student('Student_1',[5,4,3,5])\n",
    "print(test.get_average())\n",
    "test.add_grade(5)\n",
    "print(test.get_average())"
   ]
  },
  {
   "cell_type": "code",
   "execution_count": null,
   "id": "015192e8",
   "metadata": {},
   "outputs": [],
   "source": [
    "''''''"
   ]
  }
 ],
 "metadata": {
  "kernelspec": {
   "display_name": "Python 3 (ipykernel)",
   "language": "python",
   "name": "python3"
  },
  "language_info": {
   "codemirror_mode": {
    "name": "ipython",
    "version": 3
   },
   "file_extension": ".py",
   "mimetype": "text/x-python",
   "name": "python",
   "nbconvert_exporter": "python",
   "pygments_lexer": "ipython3",
   "version": "3.11.5"
  }
 },
 "nbformat": 4,
 "nbformat_minor": 5
}
