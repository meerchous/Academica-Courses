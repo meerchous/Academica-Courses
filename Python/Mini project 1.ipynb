{
 "cells": [
  {
   "cell_type": "markdown",
   "id": "74b5d472",
   "metadata": {},
   "source": [
    "# Мини проект 1"
   ]
  },
  {
   "cell_type": "markdown",
   "id": "cc4f6ca8",
   "metadata": {},
   "source": [
    "Вам дан файл users.txt. Вы должны сделать следующие действия:\n",
    "\n",
    "1) Прочитать этот файл построчно. Пожалуйста, используйте для этого try catch. Если файл не найден, напечатайте следующий текст: «the file that you would like to read is not found». Для любых других ошибок, пожалуйста, напечатайте следующее сообщение: \"some error occured\"\n",
    "     \n",
    "     \n",
    "2) Создайте класс Users со следующими атрибутами и функциями:\n",
    "\n",
    "     a) имя\n",
    "     \n",
    "     b) фамилия\n",
    "     \n",
    "     c) год рождения\n",
    "     \n",
    "     d) адрес электронной почты\n",
    "     \n",
    "     e) getAge(): возвращает возраст пользователя, принимая во внимание, что текущий год 2023\n",
    "     \n",
    "     \n",
    "3) преобразовать каждую строку файла в объект класса Users и сохранить их все в списке. Чтобы разделить слова, разделенные запятой, используйте функцию split(). Например, если: s = \"a,b,c\", тогда t = s.split(',') вернет ['a', 'b', 'c']. Таким образом разделите данные в каждой строке на отдельные части и присвойте эти значения атрибутам класса «Users».\n",
    "\n",
    "\n",
    "4) написать функцию filter(low, high, users), которая будет принимать параметры по умолчанию \"low\"=30, \"high\"=50 и простой параметр - список объектов класса Users. Функция должна пройтись по всем пользователям и проверить возраст с параметрами low и high. Мы должны вернуть только тех пользователей, чей возраст выше нижнего параметра low и ниже верхнего параметра high. Распечатайте их адрес электронной почты и возраст. Пожалуйста, разделите данные (адрес электронной почты и возраст) запятой. Затем вызовите эту функцию."
   ]
  },
  {
   "cell_type": "code",
   "execution_count": 2,
   "id": "c6bc532c",
   "metadata": {},
   "outputs": [
    {
     "name": "stdout",
     "output_type": "stream",
     "text": [
      "users.txt\n",
      "1,Magzhan,Kairanbay,magzhan.kairanbay@gmail.com,1991\n",
      "2,John,See,john.see@gmail.com,1981\n",
      "3,Lim,Kim,lim.kim@gmail.com,1997\n",
      "4,Andrew,Ng,andrew.ng@gmail.com,1971\n",
      "5,Andrey,Karpathy,andrey.karpathy@gmail.com,1981\n",
      "6,Jackie,Chan,jeckie.chan@gmail.com,1951\n",
      "7,Clarence,Lim,clarence.lim@gmail.com,1985\n",
      "8,Ryan,Jack,ryan.jack@gmail.com,1994\n",
      "9,Jonattan,Clark,jonattan.clark@gmail.com,2000\n",
      "10,Chris,Brown,chris.brown@gmail.com,1989\n",
      "11,Justin,Bieber,justin.bieber@gmail.com,199\n"
     ]
    }
   ],
   "source": [
    "while True:\n",
    "    filename = input() \n",
    "    try: \n",
    "        with open(filename,'r') as file:\n",
    "            content = file.readlines()\n",
    "            for i in content:\n",
    "                print(i[:-1])\n",
    "            break\n",
    "    except FileNotFoundError:\n",
    "        print('the file that you would like to read is not found')\n",
    "    except :\n",
    "        print('some error occured')"
   ]
  },
  {
   "cell_type": "code",
   "execution_count": 30,
   "id": "e062285e",
   "metadata": {},
   "outputs": [],
   "source": [
    "class Users():\n",
    "    \n",
    "    def __init__(self,name,surname,year,email):\n",
    "        self.name = name\n",
    "        self.surname = surname\n",
    "        self.year = int(year)\n",
    "        self.email = email\n",
    "        \n",
    "    def getAge(self):\n",
    "        return 2023-self.year\n"
   ]
  },
  {
   "cell_type": "code",
   "execution_count": 31,
   "id": "20241c66",
   "metadata": {},
   "outputs": [
    {
     "name": "stdout",
     "output_type": "stream",
     "text": [
      "[['1', 'Magzhan', 'Kairanbay', 'magzhan.kairanbay@gmail.com', '1991'], ['2', 'John', 'See', 'john.see@gmail.com', '1981'], ['3', 'Lim', 'Kim', 'lim.kim@gmail.com', '1997'], ['4', 'Andrew', 'Ng', 'andrew.ng@gmail.com', '1971'], ['5', 'Andrey', 'Karpathy', 'andrey.karpathy@gmail.com', '1981'], ['6', 'Jackie', 'Chan', 'jeckie.chan@gmail.com', '1951'], ['7', 'Clarence', 'Lim', 'clarence.lim@gmail.com', '1985'], ['8', 'Ryan', 'Jack', 'ryan.jack@gmail.com', '1994'], ['9', 'Jonattan', 'Clark', 'jonattan.clark@gmail.com', '2000'], ['10', 'Chris', 'Brown', 'chris.brown@gmail.com', '1989'], ['11', 'Justin', 'Bieber', 'justin.bieber@gmail.com', '199']]\n"
     ]
    }
   ],
   "source": [
    "file = open('users.txt','r')\n",
    "content = file.readlines()\n",
    "userlist = []\n",
    "for i in content:\n",
    "    txt = ''.join(i[:-1])\n",
    "    txt = txt.split(',')\n",
    "    if i in userlist:\n",
    "        continue\n",
    "    else:\n",
    "        userlist.append(txt)\n",
    "    \n",
    "print(userlist)\n",
    "\n",
    "def filter(low,high,users):\n",
    "    res = []\n",
    "    for i in users:\n",
    "        test = Users(i[1],i[2],i[4],i[3])\n",
    "        if low < test.getAge() < high:\n",
    "            age = test.getAge()\n",
    "            email = i[3]\n",
    "            res.append((email,age)) \n",
    "    return res"
   ]
  },
  {
   "cell_type": "code",
   "execution_count": 32,
   "id": "7d9b5123",
   "metadata": {},
   "outputs": [
    {
     "name": "stdout",
     "output_type": "stream",
     "text": [
      "[('magzhan.kairanbay@gmail.com', 32), ('john.see@gmail.com', 42), ('andrey.karpathy@gmail.com', 42), ('clarence.lim@gmail.com', 38), ('chris.brown@gmail.com', 34)]\n"
     ]
    }
   ],
   "source": [
    "print(filter(30,50,userlist))"
   ]
  },
  {
   "cell_type": "code",
   "execution_count": null,
   "id": "04c9c84a",
   "metadata": {},
   "outputs": [],
   "source": []
  }
 ],
 "metadata": {
  "kernelspec": {
   "display_name": "Python 3 (ipykernel)",
   "language": "python",
   "name": "python3"
  },
  "language_info": {
   "codemirror_mode": {
    "name": "ipython",
    "version": 3
   },
   "file_extension": ".py",
   "mimetype": "text/x-python",
   "name": "python",
   "nbconvert_exporter": "python",
   "pygments_lexer": "ipython3",
   "version": "3.11.5"
  }
 },
 "nbformat": 4,
 "nbformat_minor": 5
}
