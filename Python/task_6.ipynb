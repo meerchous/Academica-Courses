{
 "cells": [
  {
   "cell_type": "code",
   "execution_count": 4,
   "id": "f1eea794",
   "metadata": {},
   "outputs": [
    {
     "name": "stdout",
     "output_type": "stream",
     "text": [
      "4\n",
      "3\n",
      "7\n"
     ]
    }
   ],
   "source": [
    "'''1. Функция Суммирования:\n",
    "   Напишите функцию sum_numbers, которая принимает два числа как аргументы и возвращает их сумму.'''\n",
    "\n",
    "# def sum_numbers(x,y):\n",
    "#     return x+y\n",
    "\n",
    "sum_numbers = lambda x,y: x+y\n",
    "\n",
    "a, b = int(input()), int(input())\n",
    "print(sum_numbers(a,b))"
   ]
  },
  {
   "cell_type": "code",
   "execution_count": 13,
   "id": "630fdc06",
   "metadata": {},
   "outputs": [
    {
     "name": "stdout",
     "output_type": "stream",
     "text": [
      "4\n",
      "True\n",
      "None\n"
     ]
    }
   ],
   "source": [
    "'''2. Функция Проверки Четности:\n",
    "   Создайте функцию is_even, которая принимает одно число и возвращает True, если число четное, и False, если нечетное.'''\n",
    "\n",
    "def is_even(x):\n",
    "    return x%2==0\n",
    "\n",
    "# is_even = lambda x: x%2==0\n",
    "\n",
    "a = int(input())\n",
    "print(is_even(a))"
   ]
  },
  {
   "cell_type": "code",
   "execution_count": 17,
   "id": "ffbe5c72",
   "metadata": {},
   "outputs": [
    {
     "name": "stdout",
     "output_type": "stream",
     "text": [
      "5\n"
     ]
    }
   ],
   "source": [
    "'''3. Функция Поиска Максимума:\n",
    "   Реализуйте функцию find_max, которая принимает список чисел и возвращает самое большое число в списке.'''\n",
    "\n",
    "def find_max(x):\n",
    "    flag = x[0]\n",
    "    for i in range(1,len(x)):\n",
    "        if x[i] > flag:\n",
    "            flag = x[i]\n",
    "    return flag\n",
    "        \n",
    "numbers = [1,3,5,4,2,0]\n",
    "print(find_max(numbers))"
   ]
  },
  {
   "cell_type": "code",
   "execution_count": 5,
   "id": "895d2220",
   "metadata": {},
   "outputs": [
    {
     "name": "stdout",
     "output_type": "stream",
     "text": [
      "5\n",
      "41.0\n"
     ]
    }
   ],
   "source": [
    "'''4. Функция Конвертации Температуры:\n",
    "   Напишите функцию celsius_to_fahrenheit, которая конвертирует температуру из градусов Цельсия в градусы Фаренгейта.'''\n",
    "\n",
    "c_to_f = lambda x: x * 9/5 + 32\n",
    "\n",
    "a = float(input())\n",
    "print(c_to_f(a))"
   ]
  },
  {
   "cell_type": "code",
   "execution_count": 10,
   "id": "05565859",
   "metadata": {},
   "outputs": [
    {
     "name": "stdout",
     "output_type": "stream",
     "text": [
      "ПрИВет\n",
      "2\n"
     ]
    }
   ],
   "source": [
    "'''5. Функция Подсчета Гласных:\n",
    "Создайте функцию count_vowels, которая принимает строку и возвращает количество гласных букв (а, е, и, о, у, ы, э, ю, я) в этой строке.\n",
    "Например, для строки \"привет\" функция должна вернуть 2.'''\n",
    "\n",
    "def count_vowels(x):\n",
    "    cnt = 0\n",
    "    for i in x:\n",
    "        if i.lower() in ('а', 'е', 'и', 'о', 'у','ы', 'э', 'ю', 'я'):\n",
    "            cnt += 1\n",
    "    return cnt\n",
    "\n",
    "s = input()\n",
    "print(count_vowels(s))"
   ]
  }
 ],
 "metadata": {
  "kernelspec": {
   "display_name": "Python 3 (ipykernel)",
   "language": "python",
   "name": "python3"
  },
  "language_info": {
   "codemirror_mode": {
    "name": "ipython",
    "version": 3
   },
   "file_extension": ".py",
   "mimetype": "text/x-python",
   "name": "python",
   "nbconvert_exporter": "python",
   "pygments_lexer": "ipython3",
   "version": "3.11.5"
  }
 },
 "nbformat": 4,
 "nbformat_minor": 5
}
