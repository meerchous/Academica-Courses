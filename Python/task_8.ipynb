{
 "cells": [
  {
   "cell_type": "markdown",
   "id": "bad117d1",
   "metadata": {},
   "source": [
    "1. Основы NumPy: Создайте массив NumPy из списка, содержащего числа от 1 до 10. Выведите этот массив."
   ]
  },
  {
   "cell_type": "code",
   "execution_count": 10,
   "id": "74631741",
   "metadata": {},
   "outputs": [
    {
     "name": "stdout",
     "output_type": "stream",
     "text": [
      "[ 1  2  3  4  5  6  7  8  9 10]\n"
     ]
    }
   ],
   "source": [
    "import numpy as np\n",
    "\n",
    "arr = np.arange(1,11)\n",
    "print(arr)"
   ]
  },
  {
   "cell_type": "markdown",
   "id": "9eb94ba0",
   "metadata": {},
   "source": [
    "2. Операции с массивами: Создайте два массива NumPy: первый с элементами от 1 до 5, второй - с элементами от 6 до 10. Выполните поэлементное сложение этих массивов."
   ]
  },
  {
   "cell_type": "code",
   "execution_count": 11,
   "id": "bca147dd",
   "metadata": {},
   "outputs": [
    {
     "name": "stdout",
     "output_type": "stream",
     "text": [
      "[ 7  9 11 13 15]\n"
     ]
    }
   ],
   "source": [
    "arr1 = np.arange(1,6)\n",
    "arr2 = np.arange(6,11)\n",
    "print(arr1+arr2)"
   ]
  },
  {
   "cell_type": "markdown",
   "id": "b31a2df3",
   "metadata": {},
   "source": [
    "3. Индексация и срезы: Создайте одномерный массив из первых 10 целых чисел. Выведите все четные элементы этого массива (используйте индексацию также как для списков)."
   ]
  },
  {
   "cell_type": "code",
   "execution_count": 18,
   "id": "d6efb738",
   "metadata": {},
   "outputs": [
    {
     "name": "stdout",
     "output_type": "stream",
     "text": [
      "[0 2 4 6 8]\n"
     ]
    }
   ],
   "source": [
    "arr1 = np.arange(10)\n",
    "\n",
    "print(arr1[::2])"
   ]
  }
 ],
 "metadata": {
  "kernelspec": {
   "display_name": "Python 3 (ipykernel)",
   "language": "python",
   "name": "python3"
  },
  "language_info": {
   "codemirror_mode": {
    "name": "ipython",
    "version": 3
   },
   "file_extension": ".py",
   "mimetype": "text/x-python",
   "name": "python",
   "nbconvert_exporter": "python",
   "pygments_lexer": "ipython3",
   "version": "3.11.5"
  }
 },
 "nbformat": 4,
 "nbformat_minor": 5
}
