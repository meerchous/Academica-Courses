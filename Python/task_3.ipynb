{
 "cells": [
  {
   "cell_type": "code",
   "execution_count": 4,
   "id": "1525f9de",
   "metadata": {},
   "outputs": [
    {
     "name": "stdout",
     "output_type": "stream",
     "text": [
      "dict_items([('Название', 'Interstellar'), ('год выпуска', '2014'), ('жанр', 'epic science fiction'), ('режиссер', 'Christopher Nolan'), ('актеры', 'Matthew McConaughey, Anne Hathaway, Jessica Chastain, Bill Irwin, Ellen Burstyn, Matt Damon, and Michael Caine')])\n"
     ]
    },
    {
     "data": {
      "text/plain": [
       "{'Название': 'Interstellar',\n",
       " 'год выпуска': '2014',\n",
       " 'жанр': 'epic science fiction',\n",
       " 'режиссер': 'Christopher Nolan',\n",
       " 'актеры': 'Matthew McConaughey, Anne Hathaway, Jessica Chastain, Bill Irwin, Ellen Burstyn, Matt Damon, and Michael Caine'}"
      ]
     },
     "execution_count": 4,
     "metadata": {},
     "output_type": "execute_result"
    }
   ],
   "source": [
    "'''Задание 1: Словари\n",
    "1. Создайте словарь, представляющий ваш любимый фильм. Включите такие ключи, как 'название', 'год выпуска', 'жанр' и 'режиссер'.\n",
    "2. Добавьте в словарь список актеров в ключ 'актеры'.\n",
    "3. Напишите код, который выводит информацию о фильме в форматированном виде.'''\n",
    "\n",
    "favourite_film = {'Название': 'Interstellar', 'год выпуска': '2014', 'жанр': 'epic science fiction', 'режиссер': 'Christopher Nolan'}\n",
    "favourite_film['актеры'] = 'Matthew McConaughey, Anne Hathaway, Jessica Chastain, Bill Irwin, Ellen Burstyn, Matt Damon, and Michael Caine'\n",
    "print(favourite_film.items())\n",
    "print(favourite_film)"
   ]
  },
  {
   "cell_type": "code",
   "execution_count": 7,
   "id": "047cf08a",
   "metadata": {},
   "outputs": [
    {
     "name": "stdout",
     "output_type": "stream",
     "text": [
      "9 <class 'int'>\n",
      "11 <class 'int'>\n",
      "North Tower <class 'str'>\n",
      "South Tower <class 'str'>\n",
      "True <class 'bool'>\n",
      "False <class 'bool'>\n"
     ]
    }
   ],
   "source": [
    "'''Задание 2: Кортежи\n",
    "1. Создайте кортеж, содержащий различные типы данных (числа, строки, булевы значения).\n",
    "2. Напишите код, который выводит каждый элемент кортежа на отдельной строке с указанием его типа (используйте type()).'''\n",
    "\n",
    "cortezh = 9,11,'North Tower','South Tower', True, False\n",
    "for i in cortezh:\n",
    "    print(i, type(i))"
   ]
  },
  {
   "cell_type": "code",
   "execution_count": 9,
   "id": "767198d6",
   "metadata": {},
   "outputs": [
    {
     "name": "stdout",
     "output_type": "stream",
     "text": [
      "Выберите число:80\n",
      "Четное число\n"
     ]
    }
   ],
   "source": [
    "'''Задание 3: Условный оператор IF\n",
    "1. Напишите программу, которая запрашивает у пользователя число.\n",
    "2. Используйте условный оператор if, чтобы определить, является ли число четным или нечетным, и выведите соответствующее сообщение.'''\n",
    "\n",
    "num = int(input('Выберите число:'))\n",
    "if num%2 == 0:\n",
    "    print('Четное число')\n",
    "else:\n",
    "    print('Нечетное число')"
   ]
  },
  {
   "cell_type": "code",
   "execution_count": 11,
   "id": "91f5ec27",
   "metadata": {},
   "outputs": [
    {
     "name": "stdout",
     "output_type": "stream",
     "text": [
      "Ваше имя:Galym\n",
      "Любимый цвет:blue\n",
      "Привет, Galym! Твой любимый цвет - blue.\n"
     ]
    }
   ],
   "source": [
    "'''Задание 4: Ввод данных\n",
    "1. Напишите программу, которая запрашивает у пользователя его имя и любимый цвет.\n",
    "2. Пусть программа выводит сообщение вида \"Привет, [имя]! Твой любимый цвет - [цвет].\"'''\n",
    "\n",
    "name, color = input('Ваше имя:'), input('Любимый цвет:')\n",
    "print(\"Привет, \" + name + \"! Твой любимый цвет - \" + color + \".\")"
   ]
  },
  {
   "cell_type": "code",
   "execution_count": null,
   "id": "db02561d",
   "metadata": {},
   "outputs": [],
   "source": []
  }
 ],
 "metadata": {
  "kernelspec": {
   "display_name": "Python 3 (ipykernel)",
   "language": "python",
   "name": "python3"
  },
  "language_info": {
   "codemirror_mode": {
    "name": "ipython",
    "version": 3
   },
   "file_extension": ".py",
   "mimetype": "text/x-python",
   "name": "python",
   "nbconvert_exporter": "python",
   "pygments_lexer": "ipython3",
   "version": "3.11.5"
  }
 },
 "nbformat": 4,
 "nbformat_minor": 5
}
