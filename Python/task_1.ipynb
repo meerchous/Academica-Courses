{
 "cells": [
  {
   "cell_type": "code",
   "execution_count": 1,
   "id": "7804e938",
   "metadata": {},
   "outputs": [
    {
     "name": "stdout",
     "output_type": "stream",
     "text": [
      "Hello Academica!\n",
      "Hello world!\n"
     ]
    }
   ],
   "source": [
    "'''2. Создайте переменную, сохраните в ней любой текст, и выведите эту переменную на экране.\n",
    "Затем замените значение переменной другим текстом и выведите еще раз эту переменную на экран.'''\n",
    "\n",
    "s = 'Hello Academica!'\n",
    "print(s)\n",
    "s = 'Hello world!'\n",
    "print(s)"
   ]
  },
  {
   "cell_type": "code",
   "execution_count": 7,
   "id": "c1a5d6c1",
   "metadata": {},
   "outputs": [
    {
     "name": "stdout",
     "output_type": "stream",
     "text": [
      "adilkhan zhumabekov\n",
      "ADILKHAN ZHUMABEKOV\n",
      "Adilkhan Zhumabekov\n"
     ]
    }
   ],
   "source": [
    "'''3. Сохраните свое имя и фамилию в двух переменных.\n",
    "Далее создайте переменную, которая будет содержать и имя,\n",
    "и фамилию (используя ранее созданные переменные),\n",
    "и выведите новую переменную в нижнем регистре,\n",
    "в верхнем регистре и с капитализацией начальных букв каждого слова.'''\n",
    "\n",
    "first_name = 'Adilkhan'\n",
    "last_name = 'Zhumabekov'\n",
    "full_name = first_name.capitalize() + ' ' + last_name.capitalize()\n",
    "print(full_name.lower(), full_name.upper(), full_name, sep='\\n')"
   ]
  },
  {
   "cell_type": "code",
   "execution_count": 16,
   "id": "adc47667",
   "metadata": {},
   "outputs": [
    {
     "name": "stdout",
     "output_type": "stream",
     "text": [
      "A \n",
      " \td \n",
      " \t\ti \n",
      " \t\t\tl\n"
     ]
    }
   ],
   "source": [
    "'''4. Выведите свое имя в консоль с помощью \"\\t\" и \"\\n\", как указано ниже:\n",
    "\n",
    "K\n",
    "\n",
    "    a\n",
    "\n",
    "        i\n",
    "\n",
    "           r\n",
    "\n",
    "              a\n",
    "\n",
    "                 t'''\n",
    "\n",
    "print('A','\\n','\\td','\\n','\\t\\ti','\\n','\\t\\t\\tl')\n",
    "\n",
    "# name = 'Adilkhan'\n",
    "# n = 0\n",
    "# for i in name:\n",
    "#     print('\\t'*n+i)\n",
    "#     n += 1"
   ]
  },
  {
   "cell_type": "code",
   "execution_count": 9,
   "id": "1edea6db",
   "metadata": {},
   "outputs": [
    {
     "name": "stdout",
     "output_type": "stream",
     "text": [
      "Мое любимое число: 5\n"
     ]
    }
   ],
   "source": [
    "'''5. Cохраните свое любимое число в переменной.\n",
    "Затем используя эту переменную выведите текст \"Мое любимое число: ваше число\".\n",
    "Например: Мое любимое число: 17 (ваше число)'''\n",
    "\n",
    "n = 5\n",
    "print('Мое любимое число:', n)"
   ]
  },
  {
   "cell_type": "code",
   "execution_count": 11,
   "id": "c893a1e0",
   "metadata": {},
   "outputs": [
    {
     "name": "stdout",
     "output_type": "stream",
     "text": [
      "8\n",
      "8\n",
      "8\n",
      "8\n"
     ]
    }
   ],
   "source": [
    "'''6. Напишите операции сложения, вычитания, умножения и деления, результатом которых является число 8.\n",
    "Не забудьте заключить операции в команды print(), чтобы проверить результат.\n",
    "Вы должны написать четыре строки кода.\n",
    "Например одна из строк: print(5+3)'''\n",
    "\n",
    "print(1+7)\n",
    "print(25-17)\n",
    "print(2**3)\n",
    "print(65//8)\n"
   ]
  },
  {
   "cell_type": "code",
   "execution_count": null,
   "id": "e2fa6ac5",
   "metadata": {},
   "outputs": [],
   "source": []
  }
 ],
 "metadata": {
  "kernelspec": {
   "display_name": "Python 3 (ipykernel)",
   "language": "python",
   "name": "python3"
  },
  "language_info": {
   "codemirror_mode": {
    "name": "ipython",
    "version": 3
   },
   "file_extension": ".py",
   "mimetype": "text/x-python",
   "name": "python",
   "nbconvert_exporter": "python",
   "pygments_lexer": "ipython3",
   "version": "3.11.5"
  }
 },
 "nbformat": 4,
 "nbformat_minor": 5
}
