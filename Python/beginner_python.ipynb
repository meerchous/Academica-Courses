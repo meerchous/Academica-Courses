{
 "cells": [
  {
   "cell_type": "code",
   "execution_count": 2,
   "id": "362d824d",
   "metadata": {},
   "outputs": [
    {
     "name": "stdout",
     "output_type": "stream",
     "text": [
      "Hello, Students!\n"
     ]
    }
   ],
   "source": [
    "# Python Crash Course\n",
    "\n",
    "# 1. Hello World\n",
    "print(\"Hello, Students!\")\n"
   ]
  },
  {
   "cell_type": "code",
   "execution_count": 3,
   "id": "f8babe5f",
   "metadata": {},
   "outputs": [],
   "source": [
    "# 2. Variables and Data Types\n",
    "x = 5\n",
    "y = \"Hello\"\n",
    "a = 10\n",
    "b = 3.14\n",
    "c = True\n",
    "d = \"Python\""
   ]
  },
  {
   "cell_type": "code",
   "execution_count": 8,
   "id": "ffa07b20",
   "metadata": {},
   "outputs": [],
   "source": [
    "# 3. Lists and Loops\n",
    "numbers = [1, 2, 3, 4, 5]\n"
   ]
  },
  {
   "cell_type": "code",
   "execution_count": 10,
   "id": "b5a8d71b",
   "metadata": {},
   "outputs": [
    {
     "data": {
      "text/plain": [
       "4"
      ]
     },
     "execution_count": 10,
     "metadata": {},
     "output_type": "execute_result"
    }
   ],
   "source": [
    "numbers[3]"
   ]
  },
  {
   "cell_type": "code",
   "execution_count": 15,
   "id": "fe433317",
   "metadata": {},
   "outputs": [
    {
     "name": "stdout",
     "output_type": "stream",
     "text": [
      "1 нечетное\n",
      "2 четное\n",
      "3 нечетное\n",
      "4 четное\n",
      "5 нечетное\n"
     ]
    }
   ],
   "source": [
    "for number in numbers:\n",
    "    if number % 2 == 0:\n",
    "        print(number, \"четное\")\n",
    "    else:\n",
    "        print(number, \"нечетное\")"
   ]
  },
  {
   "cell_type": "code",
   "execution_count": 17,
   "id": "dddbec35",
   "metadata": {},
   "outputs": [
    {
     "name": "stdout",
     "output_type": "stream",
     "text": [
      "You are a minor\n"
     ]
    }
   ],
   "source": [
    "# 4. Conditionals\n",
    "age = \n",
    "if age >= 18:\n",
    "    print(\"You are an adult\")\n",
    "else:\n",
    "    print(\"You are a minor\")"
   ]
  },
  {
   "cell_type": "code",
   "execution_count": 20,
   "id": "7923e086",
   "metadata": {},
   "outputs": [
    {
     "data": {
      "text/plain": [
       "'Your age is 17'"
      ]
     },
     "execution_count": 20,
     "metadata": {},
     "output_type": "execute_result"
    }
   ],
   "source": [
    "f\"Your age is {age}\""
   ]
  },
  {
   "cell_type": "code",
   "execution_count": 24,
   "id": "7610ec1d",
   "metadata": {},
   "outputs": [
    {
     "name": "stdout",
     "output_type": "stream",
     "text": [
      "Hello, Dima!\n"
     ]
    }
   ],
   "source": [
    "# 5. Functions\n",
    "def greet(name):\n",
    "    return f\"Hello, {name}!\"\n",
    "\n",
    "message = greet(\"Dima\")\n",
    "print(message)"
   ]
  },
  {
   "cell_type": "code",
   "execution_count": null,
   "id": "52e0f344",
   "metadata": {},
   "outputs": [],
   "source": []
  },
  {
   "cell_type": "code",
   "execution_count": 26,
   "id": "51b72172",
   "metadata": {},
   "outputs": [
    {
     "ename": "KeyError",
     "evalue": "'Dima'",
     "output_type": "error",
     "traceback": [
      "\u001b[1;31m---------------------------------------------------------------------------\u001b[0m",
      "\u001b[1;31mKeyError\u001b[0m                                  Traceback (most recent call last)",
      "Cell \u001b[1;32mIn[26], line 6\u001b[0m\n\u001b[0;32m      1\u001b[0m \u001b[38;5;66;03m# 6. Dictionaries\u001b[39;00m\n\u001b[0;32m      2\u001b[0m phone_book \u001b[38;5;241m=\u001b[39m {\n\u001b[0;32m      3\u001b[0m     \u001b[38;5;124m'\u001b[39m\u001b[38;5;124mname\u001b[39m\u001b[38;5;124m'\u001b[39m: \u001b[38;5;124m'\u001b[39m\u001b[38;5;124mDima\u001b[39m\u001b[38;5;124m'\u001b[39m,\n\u001b[0;32m      4\u001b[0m     \u001b[38;5;124m'\u001b[39m\u001b[38;5;124mphone\u001b[39m\u001b[38;5;124m'\u001b[39m: \u001b[38;5;241m777\u001b[39m\n\u001b[0;32m      5\u001b[0m }\n\u001b[1;32m----> 6\u001b[0m \u001b[38;5;28mprint\u001b[39m(phone_book[\u001b[38;5;124m'\u001b[39m\u001b[38;5;124mDima\u001b[39m\u001b[38;5;124m'\u001b[39m], phone_book[\u001b[38;5;241m777\u001b[39m])\n",
      "\u001b[1;31mKeyError\u001b[0m: 'Dima'"
     ]
    }
   ],
   "source": [
    "# 6. Dictionaries\n",
    "phone_book = {\n",
    "    'name': 'Dima',\n",
    "    'phone': 777\n",
    "}\n",
    "print(phone_book['Dima'], phone_book[777])"
   ]
  },
  {
   "cell_type": "code",
   "execution_count": 27,
   "id": "2da7b419",
   "metadata": {},
   "outputs": [
    {
     "data": {
      "text/plain": [
       "[1, 2, 3, 4, 5]"
      ]
     },
     "execution_count": 27,
     "metadata": {},
     "output_type": "execute_result"
    }
   ],
   "source": [
    "numbers"
   ]
  },
  {
   "cell_type": "code",
   "execution_count": 29,
   "id": "272c923b",
   "metadata": {},
   "outputs": [
    {
     "data": {
      "text/plain": [
       "[1, 2, 3, 4]"
      ]
     },
     "execution_count": 29,
     "metadata": {},
     "output_type": "execute_result"
    }
   ],
   "source": [
    "# Practice Problems\n",
    "\n",
    "# Problem 1. sum all even numbers\n",
    "# counter = 0\n",
    "# for i in numbers:\n",
    "#     if i % 2 == 0:\n",
    "#         counter = counter + i\n",
    "# print(counter)\n",
    "\n",
    "\n",
    "# Problem 3. reverse a list\n",
    "numbers[]"
   ]
  },
  {
   "cell_type": "code",
   "execution_count": null,
   "id": "d3e288b2",
   "metadata": {},
   "outputs": [],
   "source": []
  },
  {
   "cell_type": "code",
   "execution_count": null,
   "id": "facd3268",
   "metadata": {},
   "outputs": [],
   "source": []
  },
  {
   "cell_type": "code",
   "execution_count": null,
   "id": "41d2b680",
   "metadata": {},
   "outputs": [],
   "source": []
  },
  {
   "cell_type": "code",
   "execution_count": null,
   "id": "a310439b",
   "metadata": {},
   "outputs": [],
   "source": []
  },
  {
   "cell_type": "code",
   "execution_count": 1,
   "id": "222bd6cb",
   "metadata": {},
   "outputs": [],
   "source": [
    "# NumPy Crash Course\n",
    "\n",
    "# Install NumPy\n",
    "# pip install numpy\n",
    "\n",
    "import numpy as np"
   ]
  },
  {
   "cell_type": "code",
   "execution_count": null,
   "id": "fd366d41",
   "metadata": {},
   "outputs": [],
   "source": [
    "# Basics\n",
    "arr1 = np.array([1, 2, 3, 4])\n",
    "arr2 = np.array([[1, 2, 3], [4, 5, 6]])\n",
    "\n",
    "sum_arr = arr1 + arr1\n",
    "product_arr = arr1 * 2\n",
    "\n",
    "shape = arr2.shape\n",
    "dtype = arr2.dtype\n",
    "\n",
    "element = arr1[0]\n",
    "slice_arr = arr1[1:3]\n",
    "\n",
    "mean_value = np.mean(arr1)\n",
    "max_value = np.max(arr1)\n",
    "dot_product = np.dot(arr1, arr1)"
   ]
  },
  {
   "cell_type": "code",
   "execution_count": null,
   "id": "ad6a6ae4",
   "metadata": {},
   "outputs": [],
   "source": [
    "# pandas Crash Course\n",
    "\n",
    "# Install pandas\n",
    "# pip install pandas\n",
    "\n",
    "import pandas as pd\n",
    "\n",
    "# Basics\n",
    "data = {'Name': ['Alice', 'Bob', 'Charlie'],\n",
    "        'Age': [25, 30, 35]}\n",
    "df = pd.DataFrame(data)\n",
    "\n",
    "head = df.head()\n",
    "info = df.info()\n",
    "\n",
    "# Reading and Writing Data\n",
    "# df_csv = pd.read_csv('data.csv')\n",
    "# df.to_csv('output.csv', index=False)\n"
   ]
  },
  {
   "cell_type": "code",
   "execution_count": null,
   "id": "4ad2e48b",
   "metadata": {},
   "outputs": [],
   "source": [
    "\n",
    "# Indexing and Selection\n",
    "age_column = df['Age']\n",
    "row = df.iloc[0]\n",
    "\n",
    "# Operations and Aggregation\n",
    "df['Salary'] = [50000, 60000, 70000]\n",
    "average_age = df['Age'].mean()\n",
    "\n",
    "# Merging DataFrames\n",
    "df1 = pd.DataFrame({'ID': [1, 2, 3], 'Name': ['Alice', 'Bob', 'Charlie']})\n",
    "df2 = pd.DataFrame({'ID': [2, 3, 4], 'Salary': [60000, 70000, 80000]})\n",
    "merged_df = pd.merge(df1, df2, on='ID', how='inner')"
   ]
  }
 ],
 "metadata": {
  "kernelspec": {
   "display_name": "Python 3 (ipykernel)",
   "language": "python",
   "name": "python3"
  },
  "language_info": {
   "codemirror_mode": {
    "name": "ipython",
    "version": 3
   },
   "file_extension": ".py",
   "mimetype": "text/x-python",
   "name": "python",
   "nbconvert_exporter": "python",
   "pygments_lexer": "ipython3",
   "version": "3.11.5"
  }
 },
 "nbformat": 4,
 "nbformat_minor": 5
}
