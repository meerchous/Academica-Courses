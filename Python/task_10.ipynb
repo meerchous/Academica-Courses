{
 "cells": [
  {
   "cell_type": "markdown",
   "id": "4db02a4f",
   "metadata": {},
   "source": [
    "Задача 1 - Сложение и изменение формы массивов:\n",
    "\n",
    "● Создайте два одномерных массива из случайных целых чисел от 1 до 10.\n",
    "\n",
    "● Выполните поэлементное сложение этих двух массивов.\n",
    "\n",
    "● Измените форму полученного массива на матрицу 2x5.\n",
    "\n",
    "● Посчитайте среднее значение"
   ]
  },
  {
   "cell_type": "code",
   "execution_count": 13,
   "id": "89b5bc8e",
   "metadata": {},
   "outputs": [
    {
     "name": "stdout",
     "output_type": "stream",
     "text": [
      "A:[6 3 2 9 2 1 6 1 9 9]\n",
      "B:[6 3 8 8 8 4 6 4 4 8]\n",
      "\n",
      "A+B:[12  6 10 17 10  5 12  5 13 17]\n",
      "\n",
      "C:[[12  6 10 17 10]\n",
      " [ 5 12  5 13 17]]\n",
      "Mean:10.7\n"
     ]
    }
   ],
   "source": [
    "import numpy as np\n",
    "\n",
    "A = np.random.randint(1,10,size=10)\n",
    "B = np.random.randint(1,10,size=10)\n",
    "print(f'A:{A}\\nB:{B}\\n')\n",
    "print(f'A+B:{A+B}\\n')\n",
    "C = np.reshape(A+B,(2,5))\n",
    "print(f'C:{C}')\n",
    "print(f'Mean:{C.mean()}')"
   ]
  },
  {
   "cell_type": "markdown",
   "id": "fcdb0599",
   "metadata": {},
   "source": [
    "Задача 2 - Работа со срезами и формами:\n",
    "\n",
    "● Создайте массив размером 3x3 и выведите его первую строку и первый столбец.\n",
    "\n",
    "● Измените форму массива с помощью функции reshape и выведите его новую форму.\n",
    "\n",
    "● Используйте функцию flatten, чтобы преобразовать массив в одномерный."
   ]
  },
  {
   "cell_type": "code",
   "execution_count": 24,
   "id": "ca2f9615",
   "metadata": {},
   "outputs": [
    {
     "name": "stdout",
     "output_type": "stream",
     "text": [
      "[[4 7 7]\n",
      " [9 3 7]\n",
      " [0 2 4]] \n",
      "\n",
      "4\n",
      "reshape:[[4 7 7 9 3 7 0 2 4]]\n",
      "\n",
      "[4 7 7 9 3 7 0 2 4]\n"
     ]
    }
   ],
   "source": [
    "a = np.random.randint(10,size=(3,3)); print(a,'\\n')\n",
    "print(a[0][0])\n",
    "print(f'reshape:{a.reshape(1,9)}\\n')\n",
    "a = a.flatten()\n",
    "print(a)"
   ]
  },
  {
   "cell_type": "markdown",
   "id": "0b6efb81",
   "metadata": {},
   "source": [
    "Задача 3 - Генерация массива и объединение столбцов:\n",
    "\n",
    "● Создайте двумерный массив размером 4x3 с случайными целыми числами от 1 до 10.\n",
    "\n",
    "● Объедините столбцы этого массива в один столбец с использованием vstack."
   ]
  },
  {
   "cell_type": "code",
   "execution_count": 33,
   "id": "777e5d17",
   "metadata": {},
   "outputs": [
    {
     "name": "stdout",
     "output_type": "stream",
     "text": [
      "[[8 4 2]\n",
      " [2 7 4]\n",
      " [4 6 7]\n",
      " [9 8 1]] \n",
      "\n",
      "[[8 2 4 9]\n",
      " [4 7 6 8]\n",
      " [2 4 7 1]] \n",
      "\n",
      "[8 2 4 9 4 7 6 8 2 4 7 1]\n"
     ]
    }
   ],
   "source": [
    "a = np.random.randint(1,10,size=(4,3))\n",
    "print(a,'\\n')\n",
    "b = np.vstack((a[:,0],a[:,1],a[:,2]))\n",
    "print(b,'\\n')\n",
    "print(b.flatten())"
   ]
  },
  {
   "cell_type": "markdown",
   "id": "5017b6f5",
   "metadata": {},
   "source": [
    "Задача 4 - Генерация массива и индексирование:\n",
    "\n",
    "● Создайте массив из 9 случайных чисел от 1 до 30.\n",
    "\n",
    "● Найдите индекс максимального значения в массиве и выведите это значение."
   ]
  },
  {
   "cell_type": "code",
   "execution_count": 50,
   "id": "e61ad877",
   "metadata": {
    "scrolled": true
   },
   "outputs": [
    {
     "name": "stdout",
     "output_type": "stream",
     "text": [
      "[21 11  3  3 30 19  2 10 22]\n",
      "4\n"
     ]
    }
   ],
   "source": [
    "a = np.random.randint(1,31,size=9)\n",
    "print(a)\n",
    "print(np.argmax(a))"
   ]
  },
  {
   "cell_type": "markdown",
   "id": "536a9a5a",
   "metadata": {},
   "source": [
    "Задача 5 - Операции над массивами:\n",
    "\n",
    "● Создайте два массива, каждый размером 2x2, состоящих из случайных целых чисел от 1 до 5.\n",
    "\n",
    "● Транспонируйте один из массивов.\n",
    "\n",
    "● Сложите транспонированный массив с другим массивом.\n",
    "\n"
   ]
  },
  {
   "cell_type": "code",
   "execution_count": 53,
   "id": "b2e55ca6",
   "metadata": {},
   "outputs": [
    {
     "name": "stdout",
     "output_type": "stream",
     "text": [
      "a:[[4 5]\n",
      " [3 3]]\n",
      "\n",
      "b:[[3 3]\n",
      " [2 3]]\n",
      "\n",
      "a^T:[[4 3]\n",
      " [5 3]]\n",
      "\n",
      "a+b:[[7 6]\n",
      " [7 6]]\n"
     ]
    }
   ],
   "source": [
    "a = np.random.randint(1,6,size=(2,2))\n",
    "print(f'a:{a}\\n')\n",
    "b = np.random.randint(1,6,size=(2,2))\n",
    "print(f'b:{b}\\n')\n",
    "a_T = a.transpose()\n",
    "print(f'a^T:{a_T}\\n')\n",
    "print(f'a+b:{a_T+b}')"
   ]
  }
 ],
 "metadata": {
  "kernelspec": {
   "display_name": "Python 3 (ipykernel)",
   "language": "python",
   "name": "python3"
  },
  "language_info": {
   "codemirror_mode": {
    "name": "ipython",
    "version": 3
   },
   "file_extension": ".py",
   "mimetype": "text/x-python",
   "name": "python",
   "nbconvert_exporter": "python",
   "pygments_lexer": "ipython3",
   "version": "3.11.5"
  }
 },
 "nbformat": 4,
 "nbformat_minor": 5
}
