{
 "cells": [
  {
   "cell_type": "markdown",
   "id": "10438537",
   "metadata": {},
   "source": [
    "# Performance metrics"
   ]
  },
  {
   "cell_type": "markdown",
   "id": "e0ac8607",
   "metadata": {},
   "source": [
    "1. Используйте предыдущее домашнее задание, в котором вы нашли значения a и b, а затем сделали прогноз, используя эти значения. Сделав прогноз, рассчитайте значение r squared."
   ]
  },
  {
   "cell_type": "code",
   "execution_count": 20,
   "id": "db836267",
   "metadata": {},
   "outputs": [
    {
     "name": "stdout",
     "output_type": "stream",
     "text": [
      "50.01430615164521 49.939869170457804\n",
      "1.0006563818563037 -0.10726546430095851\n",
      "R2 (by hand):  0.9627614125720682\n",
      "R2 (by scikit):0.9888014444327563\n"
     ]
    }
   ],
   "source": [
    "import pandas as pd\n",
    "import numpy as np\n",
    "from sklearn.linear_model import LinearRegression\n",
    "from sklearn.metrics import r2_score\n",
    "\n",
    "train = pd.read_csv('train.csv')\n",
    "train.dropna(inplace=True)\n",
    "X_train = np.array(train['x'])\n",
    "y_train = np.array(train['y'])\n",
    "\n",
    "\n",
    "test = pd.read_csv('test.csv')\n",
    "test.dropna(inplace=True)\n",
    "X_test = np.array(test['x'])\n",
    "y_test = np.array(test['y'])\n",
    "\n",
    "x_avg = np.average(X_train)\n",
    "y_avg = np.average(y_train)\n",
    "print(x_avg, y_avg)\n",
    "\n",
    "x_new = X_train - x_avg\n",
    "y_new = y_train - y_avg\n",
    "\n",
    "b_value = np.multiply(x_new, y_new)\n",
    "a_value = x_new ** 2\n",
    "\n",
    "a = np.sum(b_value) / np.sum(a_value)\n",
    "b = y_avg - a * x_avg\n",
    "print(a,b)\n",
    "\n",
    "y_pred = a * X_test + b  #y'\n",
    "\n",
    "\n",
    "u = (y_test - np.average(y_test)) ** 2 #(y-ym)^2\n",
    "v = (y_pred - np.average(y_test)) ** 2 #(y'-ym)^2\n",
    "\n",
    "r2 = np.sum(v) / np.sum(u)\n",
    "print(f\"R2 (by hand):  {r2}\")\n",
    "\n",
    "model = LinearRegression()\n",
    "model.fit(X_train.reshape(699,1), y_train)\n",
    "prediction = model.predict(X_test.reshape(300,1))\n",
    "\n",
    "R2 = r2_score(y_test, prediction)\n",
    "print(f\"R2 (by scikit):{R2}\")"
   ]
  },
  {
   "cell_type": "markdown",
   "id": "0e0a4cb7",
   "metadata": {},
   "source": [
    "2. Затем рассчитайте значение MSE"
   ]
  },
  {
   "cell_type": "code",
   "execution_count": 25,
   "id": "1b2d76ec",
   "metadata": {},
   "outputs": [
    {
     "name": "stdout",
     "output_type": "stream",
     "text": [
      "MSE (by hand):9.43292219203931\n",
      "MSE (by scikit):9.432922192039305\n"
     ]
    }
   ],
   "source": [
    "from sklearn.metrics import mean_squared_error\n",
    "\n",
    "mse = np.mean((y_pred - y_test) ** 2)\n",
    "print(f\"MSE (by hand):{mse}\")\n",
    "MSE = mean_squared_error(y_test, prediction)\n",
    "print(f\"MSE (by scikit):{MSE}\")"
   ]
  },
  {
   "cell_type": "markdown",
   "id": "2782eca4",
   "metadata": {},
   "source": [
    "3. Основываясь на значении r в квадрате, что вы можете сказать? \\\n",
    "a. Производительность модели хорошая \\\n",
    "b. Производительность модели плохая"
   ]
  },
  {
   "cell_type": "markdown",
   "id": "aa5d5a0d",
   "metadata": {},
   "source": [
    "**Ответ**: a"
   ]
  },
  {
   "cell_type": "code",
   "execution_count": null,
   "id": "21ecb63c",
   "metadata": {},
   "outputs": [],
   "source": []
  }
 ],
 "metadata": {
  "kernelspec": {
   "display_name": "Python 3 (ipykernel)",
   "language": "python",
   "name": "python3"
  },
  "language_info": {
   "codemirror_mode": {
    "name": "ipython",
    "version": 3
   },
   "file_extension": ".py",
   "mimetype": "text/x-python",
   "name": "python",
   "nbconvert_exporter": "python",
   "pygments_lexer": "ipython3",
   "version": "3.11.5"
  }
 },
 "nbformat": 4,
 "nbformat_minor": 5
}
