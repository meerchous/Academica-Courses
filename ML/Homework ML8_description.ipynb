{
 "cells": [
  {
   "cell_type": "markdown",
   "id": "83195e8e",
   "metadata": {},
   "source": [
    "# Пожалуйста, ответьте на следующие вопросы"
   ]
  },
  {
   "cell_type": "markdown",
   "id": "3cb93a00",
   "metadata": {},
   "source": [
    "1. Какой из способов расчета значения нейрона является правильным? \\\n",
    "a. Если у нас есть входные значения $x_{0}, x_{1}, x_{2}$ и соответствующие веса $w_{0}, w_{1}, w_{2}$, то для вычисления значения нейрона следующее: $f(w_{0}x_{0} + w_{1}x_{1} + w_{2}x_{2})$. \\\n",
    "b. Если у нас есть входные значения $x_{0}, x_{1}, x_{2}$ и соответствующие веса $w_{0}, w_{1}, w_{2}$, то для вычисления значения нейрона следующее: $w_{0}x_{0} + w_{1}x_{1} + w_{2}x_{2}$. \\\n",
    "c. Если у нас есть входные значения $x_{0}, x_{1}, x_{2}$ и соответствующие веса $w_{0}, w_{1}, w_{2}$, то для вычисления значения нейрона следующее: $f(w_{0}x_{0})$. \\\n",
    "d. Если у нас есть входные значения $x_{0}, x_{1}, x_{2}$ и соответствующие веса $w_{0}, w_{1}, w_{2}$, то для вычисления значения нейрона следующее: $g(f(w_{0}x_{0} + w_{1}x_{1} + w_{2}x_{2}))$."
   ]
  },
  {
   "cell_type": "markdown",
   "id": "e0b53d29",
   "metadata": {},
   "source": [
    "**Ответ**: a"
   ]
  },
  {
   "cell_type": "markdown",
   "id": "45918b6e",
   "metadata": {},
   "source": [
    "2. Какой тип функций активации не существует? \\\n",
    "a. tanh \\\n",
    "b. sigmoid \\\n",
    "c. relu \\\n",
    "d. melu"
   ]
  },
  {
   "cell_type": "markdown",
   "id": "64b567bd",
   "metadata": {},
   "source": [
    "**Ответ**: d"
   ]
  },
  {
   "cell_type": "markdown",
   "id": "66c13cfb",
   "metadata": {},
   "source": [
    "3. Как определяется функция tanh? \\\n",
    "a. σ(x)−1 \\\n",
    "b. 2σ(2x)−1 \\\n",
    "c. 2σ(2x)+x \\\n",
    "d. 2σ(2x)−0.2x"
   ]
  },
  {
   "cell_type": "markdown",
   "id": "0e248bfe",
   "metadata": {},
   "source": [
    "**Ответ**: b"
   ]
  },
  {
   "cell_type": "markdown",
   "id": "f7ac634e",
   "metadata": {},
   "source": [
    "4. Как определяется функция relu? \\\n",
    "a. max(0,x) \\\n",
    "b. min(0,x) \\\n",
    "c. avg(-x,x) \\\n",
    "d. min(0.9x,x)"
   ]
  },
  {
   "cell_type": "markdown",
   "id": "204abb3d",
   "metadata": {},
   "source": [
    "**Ответ**: a"
   ]
  },
  {
   "cell_type": "markdown",
   "id": "22bc8225",
   "metadata": {},
   "source": [
    "5. Каких слоев не существует? \\\n",
    "a. input \\\n",
    "b. hidden \\\n",
    "c. squared \\\n",
    "d. output"
   ]
  },
  {
   "cell_type": "markdown",
   "id": "b9772c08",
   "metadata": {},
   "source": [
    "**Ответ**: c"
   ]
  },
  {
   "cell_type": "markdown",
   "id": "301a542c",
   "metadata": {},
   "source": [
    "6. Как определить количество слоев во входных и выходных слоях? \\\n",
    "a. На основе определения проблемы \\\n",
    "b. Инициализировать случайными числами \\\n",
    "c. Установив на 100"
   ]
  },
  {
   "cell_type": "markdown",
   "id": "dcbf8e40",
   "metadata": {},
   "source": [
    "**Ответ**: a"
   ]
  },
  {
   "cell_type": "markdown",
   "id": "9eeefadb",
   "metadata": {},
   "source": [
    "7. Что такое feedforward? \\\n",
    "а. Расчет значений нейронов в скрытом слое \\\n",
    "б. Расчет значений нейронов в выходном слое \\\n",
    "в. Вычисление значений нейронов из входного слоя в выходной слой"
   ]
  },
  {
   "cell_type": "markdown",
   "id": "3e74cdeb",
   "metadata": {},
   "source": [
    "**Ответ**: в"
   ]
  }
 ],
 "metadata": {
  "kernelspec": {
   "display_name": "Python 3 (ipykernel)",
   "language": "python",
   "name": "python3"
  },
  "language_info": {
   "codemirror_mode": {
    "name": "ipython",
    "version": 3
   },
   "file_extension": ".py",
   "mimetype": "text/x-python",
   "name": "python",
   "nbconvert_exporter": "python",
   "pygments_lexer": "ipython3",
   "version": "3.11.5"
  }
 },
 "nbformat": 4,
 "nbformat_minor": 5
}
