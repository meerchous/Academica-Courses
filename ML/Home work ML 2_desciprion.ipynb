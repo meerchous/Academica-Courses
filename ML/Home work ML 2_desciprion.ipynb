{
 "cells": [
  {
   "cell_type": "markdown",
   "id": "73650186",
   "metadata": {},
   "source": [
    "# Пожалуйста, ответьте на следующие вопросы и решите следующие задачи"
   ]
  },
  {
   "cell_type": "markdown",
   "id": "1441af8f",
   "metadata": {},
   "source": [
    "1. Что такое обучения без учителя? \\\n",
    "a. Когда у нас есть входные данные и соответствующие метки для каждых входных данных \\\n",
    "b. Когда у нас есть входные данные и нет метки для каждого входного данных \\\n",
    "c. Когда мы учимся, делая ошибки и вознаграждая за определенные действия\n",
    "\n",
    "**Ответ**: b"
   ]
  },
  {
   "cell_type": "markdown",
   "id": "3165431c",
   "metadata": {},
   "source": [
    "2. Что такое обучение с подкреплением? \\\n",
    "a. Когда у нас есть входные данные и соответствующие метки для каждых входных данных \\\n",
    "b. Когда у нас есть входные данные и для каждого входного данных нет метки \\\n",
    "c. Когда мы учимся, делая ошибки и вознаграждая за определенные действия\n",
    "\n",
    "**Ответ**: c"
   ]
  },
  {
   "cell_type": "markdown",
   "id": "1a2c07ad",
   "metadata": {},
   "source": [
    "3. Какого множества не существует? \\\n",
    "a. train \\\n",
    "b. validation \\\n",
    "c. test \\\n",
    "d. prediction\n",
    "\n",
    "**Ответ**: d"
   ]
  },
  {
   "cell_type": "markdown",
   "id": "cd8f330d",
   "metadata": {},
   "source": [
    "4. Что такое delta? \\\n",
    "a. Разница между прогнозом и меткой \\\n",
    "b. Метод обучения \\\n",
    "c. Метка \\\n",
    "d. Входные данные\n",
    "\n",
    "**Ответ**: a"
   ]
  },
  {
   "cell_type": "markdown",
   "id": "e2781853",
   "metadata": {},
   "source": [
    "5. Большинство данных используется для ... \\\n",
    "a. testing \\\n",
    "b. training \\\n",
    "c. validation\n",
    "\n",
    "**Ответ**: b"
   ]
  },
  {
   "cell_type": "markdown",
   "id": "ba2aecb7",
   "metadata": {},
   "source": [
    "6. Сколько folds у нас в есть методе 3 fold cross validation? \\\n",
    "a. 2 \\\n",
    "b. 3 \\\n",
    "c. 4 \\\n",
    "d. 5\n",
    "\n",
    "**Ответ**: b"
   ]
  },
  {
   "cell_type": "markdown",
   "id": "f4a75caa",
   "metadata": {},
   "source": [
    "7. Пожалуйста, сгенерируйте данные в формате numpy, который состоит из 10 элементов, и каждый элемент состоит из 5 признаков. Вы можете использовать любые числа для признаков."
   ]
  },
  {
   "cell_type": "code",
   "execution_count": 23,
   "id": "a3860279",
   "metadata": {},
   "outputs": [
    {
     "name": "stdout",
     "output_type": "stream",
     "text": [
      "[[ 0  5  6  9  4]\n",
      " [ 0  0  4  0  4]\n",
      " [ 1  6  9  9  3]\n",
      " [ 9  4  6  6  9]\n",
      " [ 4 10  2  4  1]\n",
      " [ 1  7  6  8  5]\n",
      " [10  3  9  7  6]\n",
      " [ 9  2  5  6  7]\n",
      " [ 0  2  6 10  8]\n",
      " [ 9  3  1  4  1]]\n"
     ]
    }
   ],
   "source": [
    "import numpy as np\n",
    "np.random.seed(105)\n",
    "\n",
    "X = []\n",
    "\n",
    "for _ in range(10):\n",
    "    row = []\n",
    "    for _ in range(5):\n",
    "        row.append(np.random.randint(0,11))\n",
    "    X.append(row)\n",
    "X = np.array(X)\n",
    "print(X)"
   ]
  },
  {
   "cell_type": "markdown",
   "id": "573e5657",
   "metadata": {},
   "source": [
    "8. Теперь сгенерируйте массив y, состоящий из 10 чисел, равных 0 или 1."
   ]
  },
  {
   "cell_type": "code",
   "execution_count": 28,
   "id": "1616b49d",
   "metadata": {},
   "outputs": [
    {
     "data": {
      "text/plain": [
       "array([1, 1, 0, 0, 0, 0, 0, 1, 0, 0])"
      ]
     },
     "execution_count": 28,
     "metadata": {},
     "output_type": "execute_result"
    }
   ],
   "source": [
    "np.random.seed(21)\n",
    "y = np.array([np.random.randint(0,2) for i in range(10)])\n",
    "y"
   ]
  },
  {
   "cell_type": "markdown",
   "id": "e2ab6495",
   "metadata": {},
   "source": [
    "9. Теперь используйте функцию train_test_split, чтобы разделить данные на части обучения и тестирования."
   ]
  },
  {
   "cell_type": "code",
   "execution_count": 27,
   "id": "61552a3b",
   "metadata": {},
   "outputs": [
    {
     "name": "stdout",
     "output_type": "stream",
     "text": [
      "X train:\n",
      "[[ 9  4  6  6  9]\n",
      " [ 1  7  6  8  5]\n",
      " [10  3  9  7  6]\n",
      " [ 0  5  6  9  4]\n",
      " [ 4 10  2  4  1]\n",
      " [ 0  2  6 10  8]\n",
      " [ 9  3  1  4  1]]\n",
      "y train:\n",
      "[0, 0, 0, 1, 0, 0, 0]\n",
      "X test:\n",
      "[[0 0 4 0 4]\n",
      " [1 6 9 9 3]\n",
      " [9 2 5 6 7]]\n",
      "y test:\n",
      "[1, 0, 1]\n"
     ]
    }
   ],
   "source": [
    "from sklearn.model_selection import train_test_split\n",
    "\n",
    "X_train, X_test, y_train, y_test = train_test_split(X, y, test_size =0.3, random_state=21)\n",
    "\n",
    "print(f\"X train:\\n{X_train}\")\n",
    "print(f\"y train:\\n{y_train}\")\n",
    "print(f\"X test:\\n{X_test}\")\n",
    "print(f\"y test:\\n{y_test}\")"
   ]
  }
 ],
 "metadata": {
  "kernelspec": {
   "display_name": "Python 3 (ipykernel)",
   "language": "python",
   "name": "python3"
  },
  "language_info": {
   "codemirror_mode": {
    "name": "ipython",
    "version": 3
   },
   "file_extension": ".py",
   "mimetype": "text/x-python",
   "name": "python",
   "nbconvert_exporter": "python",
   "pygments_lexer": "ipython3",
   "version": "3.11.5"
  }
 },
 "nbformat": 4,
 "nbformat_minor": 5
}
