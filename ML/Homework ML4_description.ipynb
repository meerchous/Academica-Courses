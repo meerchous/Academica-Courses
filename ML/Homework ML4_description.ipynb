{
 "cells": [
  {
   "cell_type": "markdown",
   "id": "ebd8d7fe",
   "metadata": {},
   "source": [
    "1. Для вас даны следующие данные, где у вас есть количество комнат, площадь квартиры и год постройки и стоимость квартиры. На основе этих данных вы должны создать ML-модель, которая сможет прогнозировать стоимость квартиры. Вы должны определить feature vector входных данных и метки (ground truth labels). Во-первых, определите feature vector входных данных."
   ]
  },
  {
   "cell_type": "markdown",
   "id": "453c8610",
   "metadata": {},
   "source": [
    "a. $x_{1}$ - количество комнат \\\n",
    "b. $x_{1}$ - количество комнат, $x_{2}$ - год постройки \\\n",
    "c. $x_{1}$ - количество комнат, $x_{2}$ - стоимость квартиры \\\n",
    "d. $x_{1}$ - количество комнат, $x_{2}$ - год постройки, $x_{3}$ - площадь квартиры"
   ]
  },
  {
   "cell_type": "markdown",
   "id": "bfff363c",
   "metadata": {},
   "source": [
    "**Ответ**: d"
   ]
  },
  {
   "cell_type": "markdown",
   "id": "8eac4544",
   "metadata": {},
   "source": [
    "2. Для Вас приведены такие данные как: количество комнат - 3, район - Медеуский район, год постройки - 1956 и стоимость - 100000. Если предположить, что есть только три района, такие как Медеу, Бостандык и Алмалы. Тогда вы должны описать эти данные в числовой форме. Подсказка: вы можете использовать one-hot-encoding для данных района."
   ]
  },
  {
   "cell_type": "code",
   "execution_count": 5,
   "id": "d36fa84b",
   "metadata": {},
   "outputs": [],
   "source": [
    "import numpy as np\n",
    "\n",
    "x1 = np.array([3, 1, 0, 0, 1956])\n",
    "y1 = np.array([100000])\n"
   ]
  },
  {
   "cell_type": "markdown",
   "id": "23d607e9",
   "metadata": {},
   "source": [
    "3. Для Вас приведены такие данные как: количество комнат - 2, площадь - Бостандыкский район, год постройки - 1976 и стоимость - 120000. Если предположить, что есть только три района, такие как Медеу, Бостандык и Алмалы. Тогда вы должны описать эти данные в числовой форме. Подсказка: вы можете использовать one-hot-encoding для данных района."
   ]
  },
  {
   "cell_type": "code",
   "execution_count": 9,
   "id": "dfbd8f85",
   "metadata": {},
   "outputs": [],
   "source": [
    "x2 = np.array([2, 0, 1, 0, 1976])\n",
    "y2 = np.array([120000])"
   ]
  },
  {
   "cell_type": "markdown",
   "id": "27a34ed4",
   "metadata": {},
   "source": [
    "4. Для Вас приведены такие данные как: количество комнат - 3, площадь - Алмалинский район, год постройки - 2000 и стоимость - 170000. Если предположить, что есть только три района, такие как Медеу, Бостандык и Алмалы. Тогда вы должны описать эти данные в числовой форме. Подсказка: вы можете использовать one-hot-encoding для данных района."
   ]
  },
  {
   "cell_type": "code",
   "execution_count": 10,
   "id": "1d4b4a41",
   "metadata": {},
   "outputs": [],
   "source": [
    "x3 = np.array([3, 0, 0, 1, 2000])\n",
    "y3 = np.array([170000])"
   ]
  },
  {
   "cell_type": "markdown",
   "id": "4ccf6a92",
   "metadata": {},
   "source": [
    "5. Объедините все векторы признаков в один список (X) и все метки в другой список (y)."
   ]
  },
  {
   "cell_type": "code",
   "execution_count": 11,
   "id": "f28ada66",
   "metadata": {},
   "outputs": [],
   "source": [
    "X = np.array([x1, x2,x3])\n",
    "y = np.array([y1, y2, y3])"
   ]
  },
  {
   "cell_type": "markdown",
   "id": "5256606d",
   "metadata": {},
   "source": [
    "6. Затем разделите данные на обучающий и тестовый наборы, где 33% данных будут переданы тестовому набору, а остальные будут переданы обучающему набору."
   ]
  },
  {
   "cell_type": "code",
   "execution_count": 13,
   "id": "8162a8a1",
   "metadata": {},
   "outputs": [
    {
     "name": "stdout",
     "output_type": "stream",
     "text": [
      "X train:\n",
      "[[   3    0    0    1 2000]\n",
      " [   2    0    1    0 1976]]\n",
      "y train:\n",
      "[[170000]\n",
      " [120000]]\n",
      "X test:\n",
      "[[   3    1    0    0 1956]]\n",
      "y test:\n",
      "[[100000]]\n"
     ]
    }
   ],
   "source": [
    "from sklearn.model_selection import train_test_split\n",
    "\n",
    "X_train, X_test, y_train, y_test = train_test_split(X, y, test_size=0.33, random_state=21)\n",
    "print(f\"X train:\\n{X_train}\")\n",
    "print(f\"y train:\\n{y_train}\")\n",
    "print(f\"X test:\\n{X_test}\")\n",
    "print(f\"y test:\\n{y_test}\")"
   ]
  },
  {
   "cell_type": "code",
   "execution_count": null,
   "id": "3ed0bf8a",
   "metadata": {},
   "outputs": [],
   "source": []
  }
 ],
 "metadata": {
  "kernelspec": {
   "display_name": "Python 3 (ipykernel)",
   "language": "python",
   "name": "python3"
  },
  "language_info": {
   "codemirror_mode": {
    "name": "ipython",
    "version": 3
   },
   "file_extension": ".py",
   "mimetype": "text/x-python",
   "name": "python",
   "nbconvert_exporter": "python",
   "pygments_lexer": "ipython3",
   "version": "3.11.5"
  }
 },
 "nbformat": 4,
 "nbformat_minor": 5
}
