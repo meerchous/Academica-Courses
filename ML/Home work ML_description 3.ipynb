{
 "cells": [
  {
   "cell_type": "markdown",
   "id": "f0deffb1",
   "metadata": {},
   "source": [
    "# Пожалуйста, решите следующие задачи"
   ]
  },
  {
   "cell_type": "markdown",
   "id": "bb4ad741",
   "metadata": {},
   "source": [
    "1. Пожалуйста, сгенерируйте данные в формате numpy, который состоит из 8 элементов, и каждый элемент состоит из 3 признаков. Вы можете использовать любые числа для признаков."
   ]
  },
  {
   "cell_type": "code",
   "execution_count": 3,
   "id": "5fe623ac",
   "metadata": {},
   "outputs": [
    {
     "data": {
      "text/plain": [
       "array([[ 9,  8,  4],\n",
       "       [ 0,  0,  8],\n",
       "       [ 3,  2,  1],\n",
       "       [10,  8,  9],\n",
       "       [ 6, 10,  0],\n",
       "       [ 4,  6,  4],\n",
       "       [ 4,  7,  8],\n",
       "       [ 9,  5,  6]])"
      ]
     },
     "execution_count": 3,
     "metadata": {},
     "output_type": "execute_result"
    }
   ],
   "source": [
    "import numpy as np\n",
    "\n",
    "np.random.seed(21)\n",
    "X = []\n",
    "for _ in range(8):\n",
    "    row = []\n",
    "    for _ in range(3):\n",
    "        row.append(np.random.randint(0,11))\n",
    "    X.append(row)\n",
    "X = np.array(X)\n",
    "X"
   ]
  },
  {
   "cell_type": "markdown",
   "id": "ba911158",
   "metadata": {},
   "source": [
    "2. Теперь сгенерируйте массив y, состоящий из 8 чисел, равных 0 или 1."
   ]
  },
  {
   "cell_type": "code",
   "execution_count": 4,
   "id": "44ebbf03",
   "metadata": {},
   "outputs": [
    {
     "data": {
      "text/plain": [
       "array([1, 1, 0, 0, 0, 0, 0, 1])"
      ]
     },
     "execution_count": 4,
     "metadata": {},
     "output_type": "execute_result"
    }
   ],
   "source": [
    "np.random.seed(21)\n",
    "y = np.array([np.random.randint(0,2) for i in range(8)])\n",
    "y"
   ]
  },
  {
   "cell_type": "markdown",
   "id": "92d9ddd6",
   "metadata": {},
   "source": [
    "3. Теперь используйте функцию train_test_split, чтобы разделить данные на части обучения и тестирования. Вы можете использовать 50% данных для обучения и остальные для тестирования."
   ]
  },
  {
   "cell_type": "code",
   "execution_count": 6,
   "id": "1407d01a",
   "metadata": {},
   "outputs": [],
   "source": [
    "from sklearn.model_selection import train_test_split\n",
    "\n",
    "X_train, X_test, y_train, y_test = train_test_split(X, y, test_size=0.5, random_state=21)"
   ]
  },
  {
   "cell_type": "markdown",
   "id": "5c9af401",
   "metadata": {},
   "source": [
    "4. Теперь создайте еще один массив numpy, состоящий из 4 чисел, где каждое число равно 0 или 1. Этот массив будет вашим прогнозом."
   ]
  },
  {
   "cell_type": "code",
   "execution_count": 9,
   "id": "71beb037",
   "metadata": {},
   "outputs": [
    {
     "data": {
      "text/plain": [
       "array([1, 1, 0, 0])"
      ]
     },
     "execution_count": 9,
     "metadata": {},
     "output_type": "execute_result"
    }
   ],
   "source": [
    "np.random.seed(21)\n",
    "prediction = np.array([np.random.randint(0,2) for i in range(4)])\n",
    "prediction"
   ]
  },
  {
   "cell_type": "markdown",
   "id": "a4971ea7",
   "metadata": {},
   "source": [
    "5. Используйте свой прогноз и набор тестов для расчета precision."
   ]
  },
  {
   "cell_type": "code",
   "execution_count": 10,
   "id": "5c504496",
   "metadata": {},
   "outputs": [
    {
     "name": "stdout",
     "output_type": "stream",
     "text": [
      "Precision:0.5\n"
     ]
    }
   ],
   "source": [
    "from sklearn.metrics import precision_score\n",
    "\n",
    "precision = precision_score(y_test,prediction)\n",
    "print(f\"Precision:{precision}\")"
   ]
  },
  {
   "cell_type": "markdown",
   "id": "06b1f6a3",
   "metadata": {},
   "source": [
    "6. Используйте свой прогноз и тестовый набор для расчета recall."
   ]
  },
  {
   "cell_type": "code",
   "execution_count": 11,
   "id": "cb70f847",
   "metadata": {},
   "outputs": [
    {
     "name": "stdout",
     "output_type": "stream",
     "text": [
      "Recall:1.0\n"
     ]
    }
   ],
   "source": [
    "from sklearn.metrics import recall_score\n",
    "\n",
    "recall = recall_score(y_test, prediction)\n",
    "print(f\"Recall:{recall}\")"
   ]
  },
  {
   "cell_type": "markdown",
   "id": "85e65974",
   "metadata": {},
   "source": [
    "7. Используйте свой прогноз и набор тестов, чтобы рассчитать F1 score."
   ]
  },
  {
   "cell_type": "code",
   "execution_count": 12,
   "id": "b4940965",
   "metadata": {},
   "outputs": [
    {
     "name": "stdout",
     "output_type": "stream",
     "text": [
      "F1 score:0.6666666666666666\n"
     ]
    }
   ],
   "source": [
    "from sklearn.metrics import f1_score\n",
    "\n",
    "f1 = f1_score(y_test,prediction)\n",
    "print(f\"F1 score:{f1}\")"
   ]
  },
  {
   "cell_type": "markdown",
   "id": "2b8ae7da",
   "metadata": {},
   "source": [
    "8. Используйте свой прогноз и набор тестов для расчета точности."
   ]
  },
  {
   "cell_type": "code",
   "execution_count": 14,
   "id": "e726b3ed",
   "metadata": {},
   "outputs": [
    {
     "name": "stdout",
     "output_type": "stream",
     "text": [
      "Accuracy:0.75\n"
     ]
    }
   ],
   "source": [
    "from sklearn.metrics import accuracy_score\n",
    "\n",
    "accuracy = accuracy_score(y_test,prediction)\n",
    "print(f\"Accuracy:{accuracy}\")"
   ]
  }
 ],
 "metadata": {
  "kernelspec": {
   "display_name": "Python 3 (ipykernel)",
   "language": "python",
   "name": "python3"
  },
  "language_info": {
   "codemirror_mode": {
    "name": "ipython",
    "version": 3
   },
   "file_extension": ".py",
   "mimetype": "text/x-python",
   "name": "python",
   "nbconvert_exporter": "python",
   "pygments_lexer": "ipython3",
   "version": "3.11.5"
  }
 },
 "nbformat": 4,
 "nbformat_minor": 5
}
