{
 "cells": [
  {
   "cell_type": "markdown",
   "id": "2b394dac",
   "metadata": {},
   "source": [
    "# Пожалуйста, ответьте на следующие вопросы и решите задачу"
   ]
  },
  {
   "cell_type": "markdown",
   "id": "93bd5e4f",
   "metadata": {},
   "source": [
    "1. Каких шагов нет в генетическом алгоритме? \\\n",
    "a. расчет фитнес-функции \\\n",
    "b. выбор \\\n",
    "c. кроссовер \\\n",
    "d. мутация \\\n",
    "e. градиентный спуск"
   ]
  },
  {
   "cell_type": "markdown",
   "id": "757497e4",
   "metadata": {},
   "source": [
    "**Ответ**: e"
   ]
  },
  {
   "cell_type": "markdown",
   "id": "cc78689e",
   "metadata": {},
   "source": [
    "2. Для вас дана следующая фитнес-функция $f(x) = x^{2} + 2x + 1$ и даны следующие хромосомы, такие как {1, 0, -1}. Пожалуйста, примените к этим данным фитнес-функцию и отсортируйте по значению пригодности."
   ]
  },
  {
   "cell_type": "code",
   "execution_count": 11,
   "id": "3c0ea327",
   "metadata": {},
   "outputs": [
    {
     "name": "stdout",
     "output_type": "stream",
     "text": [
      "[4, 1, 0]\n"
     ]
    }
   ],
   "source": [
    "chromosome = [1,0,-1]\n",
    "\n",
    "def F(x):\n",
    "    return x**2 + 2*x + 1\n",
    "\n",
    "def fitness_function(data):\n",
    "    f = []\n",
    "    for i in data:\n",
    "        f.append(F(i))\n",
    "    return f\n",
    "\n",
    "fitness = fitness_function(chromosome)\n",
    "print(sorted(fitness, reverse=True))"
   ]
  },
  {
   "cell_type": "markdown",
   "id": "15a5bba8",
   "metadata": {},
   "source": [
    "3. Для вас даны следующие хромосомы со следующими значениями: 35%, 25%, 15%, 10%, 5%, 2%, 1%, 1%, 1%, 1%, 1%, 1%, 1%, 1%. Вы должны выбрать две хромосомы для следующего поколения. Какой из них вы выберете? \\\n",
    "a. 10% и 5% \\\n",
    "b. 35% и 10%\\\n",
    "c. 25% и 35% \\\n",
    "d. 15% и 10%"
   ]
  },
  {
   "cell_type": "markdown",
   "id": "87a8c49f",
   "metadata": {},
   "source": [
    "**Ответ**: c"
   ]
  },
  {
   "cell_type": "markdown",
   "id": "26129c3a",
   "metadata": {},
   "source": [
    "4. Для вас заданы два родителя, например: ABCD и XYZW. Пожалуйста, создайте двух детей. \\\n",
    "a. ABZW и XYCD \\\n",
    "b. ABCD и XYZW \\\n",
    "c. AACD и ZZYZX \\\n",
    "d. ABCD и XXYZ"
   ]
  },
  {
   "cell_type": "markdown",
   "id": "e6e21235",
   "metadata": {},
   "source": [
    "**Ответ**: a"
   ]
  },
  {
   "cell_type": "markdown",
   "id": "832220cf",
   "metadata": {},
   "source": [
    "5. Что можно считать мутацией хромосомы ABCD? \\\n",
    "a. АВСХ \\\n",
    "b. АВСD \\\n",
    "c. ХХХХ"
   ]
  },
  {
   "cell_type": "markdown",
   "id": "08e35cfa",
   "metadata": {},
   "source": [
    "**Ответ**: a"
   ]
  }
 ],
 "metadata": {
  "kernelspec": {
   "display_name": "Python 3 (ipykernel)",
   "language": "python",
   "name": "python3"
  },
  "language_info": {
   "codemirror_mode": {
    "name": "ipython",
    "version": 3
   },
   "file_extension": ".py",
   "mimetype": "text/x-python",
   "name": "python",
   "nbconvert_exporter": "python",
   "pygments_lexer": "ipython3",
   "version": "3.11.5"
  }
 },
 "nbformat": 4,
 "nbformat_minor": 5
}
