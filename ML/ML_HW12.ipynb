{
 "cells": [
  {
   "cell_type": "markdown",
   "id": "9463180f",
   "metadata": {},
   "source": [
    "**Задание 1.**\n",
    "\n",
    "Цель: Использование метода опорных векторов (SVM) для классификации видов ирисов на основе их характеристик.\n",
    "\n",
    "\n",
    "\n",
    "Данные: Набор данных \"Ирисы\", состоящий из 150 наблюдений, каждое из которых содержит четыре атрибута (длина и ширина чашелистиков, длина и ширина лепестков) и метку класса, указывающую на принадлежность к одному из трех видов ирисов (Iris setosa, Iris virginica, Iris versicolor).\n",
    "\n",
    "\n",
    "\n",
    "Задачи:\n",
    "\n",
    "Разделите данные на признаки (X) и целевую переменную (y), где признаки - это атрибуты ирисов, а целевая переменная - метка класса\n",
    "Далее разделите полученные данные на обучающую и тестовую выборки, используя соотношение 70% на 30% соответственно. Установите random_state равным 105 для воспроизводимости результатов.\n",
    "Масштабируйте признаки, используя MinMaxScaler, чтобы привести все значения к диапазону от 0 до 1. Это необходимо для улучшения производительности модели SVM.\n",
    "Обучите модель SVM с радиально-базисной функцией (RBF) и коэффициентом регуляризации C, равным 1, на обучающей выборке.\n",
    "После обучения модели выполните предсказание на тестовой выборке и оцените качество модели с помощью classification_report и confusion_matrix. Анализируйте результаты, сосредоточив внимание на точности, полноте и F1-мере для каждого из классов, а также на общей точности модели.\n",
    "\n",
    "Дополнительные указания:\n",
    "\n",
    "Убедитесь, что перед выполнением масштабирования вы правильно разделили данные на обучающую и тестовую выборки, чтобы предотвратить утечку данных.\n",
    "\n",
    "Использование радиально-базисной функции (RBF) в качестве ядра SVM предполагает, что вы рассматриваете возможность нелинейной разделимости данных. Обратите внимание на результаты и рассмотрите возможность экспериментирования с другими типами ядер и параметрами C для улучшения результатов классификации."
   ]
  },
  {
   "cell_type": "code",
   "execution_count": 41,
   "id": "5443c8c7",
   "metadata": {},
   "outputs": [],
   "source": [
    "import pandas as pd\n",
    "import numpy as np\n",
    "from sklearn import datasets\n",
    "from sklearn.model_selection import train_test_split, GridSearchCV\n",
    "from sklearn.preprocessing import MinMaxScaler\n",
    "from sklearn.svm import SVC\n",
    "from sklearn.metrics import confusion_matrix, classification_report"
   ]
  },
  {
   "cell_type": "code",
   "execution_count": 42,
   "id": "9e875b4b",
   "metadata": {},
   "outputs": [
    {
     "name": "stdout",
     "output_type": "stream",
     "text": [
      "Report:\n",
      "              precision    recall  f1-score   support\n",
      "\n",
      "           0       1.00      1.00      1.00        12\n",
      "           1       1.00      0.94      0.97        16\n",
      "           2       0.94      1.00      0.97        17\n",
      "\n",
      "    accuracy                           0.98        45\n",
      "   macro avg       0.98      0.98      0.98        45\n",
      "weighted avg       0.98      0.98      0.98        45\n",
      "\n",
      "Confusion matrix:\n",
      "[[12  0  0]\n",
      " [ 0 15  1]\n",
      " [ 0  0 17]]\n"
     ]
    }
   ],
   "source": [
    "data = datasets.load_iris()\n",
    "\n",
    "features = data['data']\n",
    "cols = data['feature_names']\n",
    "target = data['target']\n",
    "target_name = data['target_names']\n",
    "\n",
    "dataset = pd.DataFrame(features, columns= cols)\n",
    "dataset['target'] = target\n",
    "\n",
    "target_dict = {i: target_name[i] for i in range(len(target_name))}\n",
    "dataset['target_name'] = dataset['target'].map(target_dict)\n",
    "\n",
    "X = dataset.drop(columns=['target', 'target_name'])\n",
    "y = dataset[['target', 'target_name']].copy()\n",
    "\n",
    "X_train, X_test, y_train, y_test = train_test_split(X, y, test_size=0.3, random_state=105)\n",
    "\n",
    "scaler = MinMaxScaler()\n",
    "X_tr_scaled = scaler.fit_transform(X_train)\n",
    "X_t_scaled = scaler.transform(X_test)\n",
    "\n",
    "model = SVC(kernel='rbf', C=1)\n",
    "model.fit(X_tr_scaled, y_train['target'])\n",
    "prediction = model.predict(X_t_scaled)\n",
    "\n",
    "print(f\"Report:\\n{classification_report(y_test['target'], prediction)}\")\n",
    "print(f\"Confusion matrix:\\n{confusion_matrix(y_test['target'], prediction)}\")"
   ]
  },
  {
   "cell_type": "code",
   "execution_count": 43,
   "id": "7217043f",
   "metadata": {},
   "outputs": [
    {
     "data": {
      "text/html": [
       "<style>#sk-container-id-3 {color: black;}#sk-container-id-3 pre{padding: 0;}#sk-container-id-3 div.sk-toggleable {background-color: white;}#sk-container-id-3 label.sk-toggleable__label {cursor: pointer;display: block;width: 100%;margin-bottom: 0;padding: 0.3em;box-sizing: border-box;text-align: center;}#sk-container-id-3 label.sk-toggleable__label-arrow:before {content: \"▸\";float: left;margin-right: 0.25em;color: #696969;}#sk-container-id-3 label.sk-toggleable__label-arrow:hover:before {color: black;}#sk-container-id-3 div.sk-estimator:hover label.sk-toggleable__label-arrow:before {color: black;}#sk-container-id-3 div.sk-toggleable__content {max-height: 0;max-width: 0;overflow: hidden;text-align: left;background-color: #f0f8ff;}#sk-container-id-3 div.sk-toggleable__content pre {margin: 0.2em;color: black;border-radius: 0.25em;background-color: #f0f8ff;}#sk-container-id-3 input.sk-toggleable__control:checked~div.sk-toggleable__content {max-height: 200px;max-width: 100%;overflow: auto;}#sk-container-id-3 input.sk-toggleable__control:checked~label.sk-toggleable__label-arrow:before {content: \"▾\";}#sk-container-id-3 div.sk-estimator input.sk-toggleable__control:checked~label.sk-toggleable__label {background-color: #d4ebff;}#sk-container-id-3 div.sk-label input.sk-toggleable__control:checked~label.sk-toggleable__label {background-color: #d4ebff;}#sk-container-id-3 input.sk-hidden--visually {border: 0;clip: rect(1px 1px 1px 1px);clip: rect(1px, 1px, 1px, 1px);height: 1px;margin: -1px;overflow: hidden;padding: 0;position: absolute;width: 1px;}#sk-container-id-3 div.sk-estimator {font-family: monospace;background-color: #f0f8ff;border: 1px dotted black;border-radius: 0.25em;box-sizing: border-box;margin-bottom: 0.5em;}#sk-container-id-3 div.sk-estimator:hover {background-color: #d4ebff;}#sk-container-id-3 div.sk-parallel-item::after {content: \"\";width: 100%;border-bottom: 1px solid gray;flex-grow: 1;}#sk-container-id-3 div.sk-label:hover label.sk-toggleable__label {background-color: #d4ebff;}#sk-container-id-3 div.sk-serial::before {content: \"\";position: absolute;border-left: 1px solid gray;box-sizing: border-box;top: 0;bottom: 0;left: 50%;z-index: 0;}#sk-container-id-3 div.sk-serial {display: flex;flex-direction: column;align-items: center;background-color: white;padding-right: 0.2em;padding-left: 0.2em;position: relative;}#sk-container-id-3 div.sk-item {position: relative;z-index: 1;}#sk-container-id-3 div.sk-parallel {display: flex;align-items: stretch;justify-content: center;background-color: white;position: relative;}#sk-container-id-3 div.sk-item::before, #sk-container-id-3 div.sk-parallel-item::before {content: \"\";position: absolute;border-left: 1px solid gray;box-sizing: border-box;top: 0;bottom: 0;left: 50%;z-index: -1;}#sk-container-id-3 div.sk-parallel-item {display: flex;flex-direction: column;z-index: 1;position: relative;background-color: white;}#sk-container-id-3 div.sk-parallel-item:first-child::after {align-self: flex-end;width: 50%;}#sk-container-id-3 div.sk-parallel-item:last-child::after {align-self: flex-start;width: 50%;}#sk-container-id-3 div.sk-parallel-item:only-child::after {width: 0;}#sk-container-id-3 div.sk-dashed-wrapped {border: 1px dashed gray;margin: 0 0.4em 0.5em 0.4em;box-sizing: border-box;padding-bottom: 0.4em;background-color: white;}#sk-container-id-3 div.sk-label label {font-family: monospace;font-weight: bold;display: inline-block;line-height: 1.2em;}#sk-container-id-3 div.sk-label-container {text-align: center;}#sk-container-id-3 div.sk-container {/* jupyter's `normalize.less` sets `[hidden] { display: none; }` but bootstrap.min.css set `[hidden] { display: none !important; }` so we also need the `!important` here to be able to override the default hidden behavior on the sphinx rendered scikit-learn.org. See: https://github.com/scikit-learn/scikit-learn/issues/21755 */display: inline-block !important;position: relative;}#sk-container-id-3 div.sk-text-repr-fallback {display: none;}</style><div id=\"sk-container-id-3\" class=\"sk-top-container\"><div class=\"sk-text-repr-fallback\"><pre>GridSearchCV(cv=3, estimator=SVC(),\n",
       "             param_grid={&#x27;C&#x27;: [0.1, 0.01, 1, 2], &#x27;degree&#x27;: range(3, 9),\n",
       "                         &#x27;kernel&#x27;: [&#x27;rbf&#x27;, &#x27;poly&#x27;, &#x27;linear&#x27;]},\n",
       "             scoring=&#x27;neg_mean_squared_error&#x27;)</pre><b>In a Jupyter environment, please rerun this cell to show the HTML representation or trust the notebook. <br />On GitHub, the HTML representation is unable to render, please try loading this page with nbviewer.org.</b></div><div class=\"sk-container\" hidden><div class=\"sk-item sk-dashed-wrapped\"><div class=\"sk-label-container\"><div class=\"sk-label sk-toggleable\"><input class=\"sk-toggleable__control sk-hidden--visually\" id=\"sk-estimator-id-7\" type=\"checkbox\" ><label for=\"sk-estimator-id-7\" class=\"sk-toggleable__label sk-toggleable__label-arrow\">GridSearchCV</label><div class=\"sk-toggleable__content\"><pre>GridSearchCV(cv=3, estimator=SVC(),\n",
       "             param_grid={&#x27;C&#x27;: [0.1, 0.01, 1, 2], &#x27;degree&#x27;: range(3, 9),\n",
       "                         &#x27;kernel&#x27;: [&#x27;rbf&#x27;, &#x27;poly&#x27;, &#x27;linear&#x27;]},\n",
       "             scoring=&#x27;neg_mean_squared_error&#x27;)</pre></div></div></div><div class=\"sk-parallel\"><div class=\"sk-parallel-item\"><div class=\"sk-item\"><div class=\"sk-label-container\"><div class=\"sk-label sk-toggleable\"><input class=\"sk-toggleable__control sk-hidden--visually\" id=\"sk-estimator-id-8\" type=\"checkbox\" ><label for=\"sk-estimator-id-8\" class=\"sk-toggleable__label sk-toggleable__label-arrow\">estimator: SVC</label><div class=\"sk-toggleable__content\"><pre>SVC()</pre></div></div></div><div class=\"sk-serial\"><div class=\"sk-item\"><div class=\"sk-estimator sk-toggleable\"><input class=\"sk-toggleable__control sk-hidden--visually\" id=\"sk-estimator-id-9\" type=\"checkbox\" ><label for=\"sk-estimator-id-9\" class=\"sk-toggleable__label sk-toggleable__label-arrow\">SVC</label><div class=\"sk-toggleable__content\"><pre>SVC()</pre></div></div></div></div></div></div></div></div></div></div>"
      ],
      "text/plain": [
       "GridSearchCV(cv=3, estimator=SVC(),\n",
       "             param_grid={'C': [0.1, 0.01, 1, 2], 'degree': range(3, 9),\n",
       "                         'kernel': ['rbf', 'poly', 'linear']},\n",
       "             scoring='neg_mean_squared_error')"
      ]
     },
     "execution_count": 43,
     "metadata": {},
     "output_type": "execute_result"
    }
   ],
   "source": [
    "model = SVC()\n",
    "params = {'degree': range(3, 9),\n",
    "          \"C\": [0.1, 0.01, 1, 2],\n",
    "         'kernel': ['rbf', 'poly', 'linear']}\n",
    "model_search = GridSearchCV(param_grid=params, estimator=model, scoring='neg_mean_squared_error', cv=3)\n",
    "model_search.fit(X_tr_scaled, y_train['target'])"
   ]
  },
  {
   "cell_type": "code",
   "execution_count": 44,
   "id": "e0165f34",
   "metadata": {},
   "outputs": [
    {
     "data": {
      "text/plain": [
       "{'C': 2, 'degree': 3, 'kernel': 'linear'}"
      ]
     },
     "execution_count": 44,
     "metadata": {},
     "output_type": "execute_result"
    }
   ],
   "source": [
    "model_search.best_params_"
   ]
  },
  {
   "cell_type": "code",
   "execution_count": 45,
   "id": "63a4e706",
   "metadata": {},
   "outputs": [
    {
     "name": "stdout",
     "output_type": "stream",
     "text": [
      "Report:\n",
      "              precision    recall  f1-score   support\n",
      "\n",
      "           0       1.00      1.00      1.00        12\n",
      "           1       1.00      0.94      0.97        16\n",
      "           2       0.94      1.00      0.97        17\n",
      "\n",
      "    accuracy                           0.98        45\n",
      "   macro avg       0.98      0.98      0.98        45\n",
      "weighted avg       0.98      0.98      0.98        45\n",
      "\n",
      "Confusion matrix:\n",
      "[[12  0  0]\n",
      " [ 0 15  1]\n",
      " [ 0  0 17]]\n"
     ]
    }
   ],
   "source": [
    "model = SVC(kernel='linear', C=2, degree=3)\n",
    "model.fit(X_tr_scaled, y_train['target'])\n",
    "prediction = model.predict(X_t_scaled)\n",
    "\n",
    "print(f\"Report:\\n{classification_report(y_test['target'], prediction)}\")\n",
    "print(f\"Confusion matrix:\\n{confusion_matrix(y_test['target'], prediction)}\")"
   ]
  },
  {
   "cell_type": "markdown",
   "id": "7b356bd5",
   "metadata": {},
   "source": [
    "**Задача 2:**\n",
    "\n",
    "Цель задачи: Использование метода опорных векторов для регрессии (SVR) для предсказания медианных цен на жилье в Калифорнии на основе социально-экономических показателей различных блоков населения.\n",
    "\n",
    "Задачи:\n",
    "\n",
    "Разделите данные на обучающую и тестовую выборки в соотношении 70% на 30% со значением random_state=105 для воспроизводимости результатов.\n",
    "Произведите масштабирование признаков с использованием MinMaxScaler для улучшения производительности модели SVR. Убедитесь, что масштабирование выполняется отдельно для обучающей и тестовой выборок, чтобы избежать утечки данных.\n",
    "Обучите модель SVR с полиномиальным ядром (kernel='poly'), начальными параметрами степени ядра degree=3 и коэффициентом регуляризации C=1, на обучающей выборке.\n",
    "Выполните предсказание медианных цен на жилье для тестовой выборки и оцените качество модели, вычислив корень из среднеквадратичной ошибки (RMSE).\n",
    "Используйте GridSearchCV для автоматического подбора оптимальных параметров модели SVR, варьируя degree и C. Определите лучшую комбинацию параметров на основе кросс-валидации."
   ]
  },
  {
   "cell_type": "code",
   "execution_count": 46,
   "id": "9f630a9d",
   "metadata": {},
   "outputs": [
    {
     "name": "stdout",
     "output_type": "stream",
     "text": [
      "Качество:\n",
      "0.5963673441239626\n",
      "RMSE:\n",
      "0.7366135199244025\n"
     ]
    }
   ],
   "source": [
    "from sklearn.svm import SVR\n",
    "from sklearn.metrics import mean_squared_error as MSE, r2_score\n",
    "\n",
    "data = datasets.fetch_california_housing()\n",
    "\n",
    "features = data['data']\n",
    "cols = data['feature_names']\n",
    "target = data['target']\n",
    "\n",
    "dataset = pd.DataFrame(features, columns= cols)\n",
    "dataset['target'] = target\n",
    "\n",
    "X = dataset.drop(columns=['target'])\n",
    "y = dataset[['target']].copy()\n",
    "\n",
    "X_train, X_test, y_train, y_test = train_test_split(X, y, test_size=0.3, random_state=105)\n",
    "\n",
    "scaler = MinMaxScaler()\n",
    "X_tr_scaled = scaler.fit_transform(X_train)\n",
    "X_t_scaled = scaler.transform(X_test)\n",
    "\n",
    "model = SVR(kernel='poly', C=1, degree=3)\n",
    "model.fit(X_tr_scaled, y_train['target'])\n",
    "prediction = model.predict(X_t_scaled)\n",
    "\n",
    "print(f\"Качество:\\n{r2_score(y_test, prediction)}\")\n",
    "print(f\"RMSE:\\n{MSE(y_test, prediction) ** (1/2)}\")"
   ]
  },
  {
   "cell_type": "code",
   "execution_count": 47,
   "id": "89cb9afb",
   "metadata": {},
   "outputs": [
    {
     "data": {
      "text/html": [
       "<style>#sk-container-id-4 {color: black;}#sk-container-id-4 pre{padding: 0;}#sk-container-id-4 div.sk-toggleable {background-color: white;}#sk-container-id-4 label.sk-toggleable__label {cursor: pointer;display: block;width: 100%;margin-bottom: 0;padding: 0.3em;box-sizing: border-box;text-align: center;}#sk-container-id-4 label.sk-toggleable__label-arrow:before {content: \"▸\";float: left;margin-right: 0.25em;color: #696969;}#sk-container-id-4 label.sk-toggleable__label-arrow:hover:before {color: black;}#sk-container-id-4 div.sk-estimator:hover label.sk-toggleable__label-arrow:before {color: black;}#sk-container-id-4 div.sk-toggleable__content {max-height: 0;max-width: 0;overflow: hidden;text-align: left;background-color: #f0f8ff;}#sk-container-id-4 div.sk-toggleable__content pre {margin: 0.2em;color: black;border-radius: 0.25em;background-color: #f0f8ff;}#sk-container-id-4 input.sk-toggleable__control:checked~div.sk-toggleable__content {max-height: 200px;max-width: 100%;overflow: auto;}#sk-container-id-4 input.sk-toggleable__control:checked~label.sk-toggleable__label-arrow:before {content: \"▾\";}#sk-container-id-4 div.sk-estimator input.sk-toggleable__control:checked~label.sk-toggleable__label {background-color: #d4ebff;}#sk-container-id-4 div.sk-label input.sk-toggleable__control:checked~label.sk-toggleable__label {background-color: #d4ebff;}#sk-container-id-4 input.sk-hidden--visually {border: 0;clip: rect(1px 1px 1px 1px);clip: rect(1px, 1px, 1px, 1px);height: 1px;margin: -1px;overflow: hidden;padding: 0;position: absolute;width: 1px;}#sk-container-id-4 div.sk-estimator {font-family: monospace;background-color: #f0f8ff;border: 1px dotted black;border-radius: 0.25em;box-sizing: border-box;margin-bottom: 0.5em;}#sk-container-id-4 div.sk-estimator:hover {background-color: #d4ebff;}#sk-container-id-4 div.sk-parallel-item::after {content: \"\";width: 100%;border-bottom: 1px solid gray;flex-grow: 1;}#sk-container-id-4 div.sk-label:hover label.sk-toggleable__label {background-color: #d4ebff;}#sk-container-id-4 div.sk-serial::before {content: \"\";position: absolute;border-left: 1px solid gray;box-sizing: border-box;top: 0;bottom: 0;left: 50%;z-index: 0;}#sk-container-id-4 div.sk-serial {display: flex;flex-direction: column;align-items: center;background-color: white;padding-right: 0.2em;padding-left: 0.2em;position: relative;}#sk-container-id-4 div.sk-item {position: relative;z-index: 1;}#sk-container-id-4 div.sk-parallel {display: flex;align-items: stretch;justify-content: center;background-color: white;position: relative;}#sk-container-id-4 div.sk-item::before, #sk-container-id-4 div.sk-parallel-item::before {content: \"\";position: absolute;border-left: 1px solid gray;box-sizing: border-box;top: 0;bottom: 0;left: 50%;z-index: -1;}#sk-container-id-4 div.sk-parallel-item {display: flex;flex-direction: column;z-index: 1;position: relative;background-color: white;}#sk-container-id-4 div.sk-parallel-item:first-child::after {align-self: flex-end;width: 50%;}#sk-container-id-4 div.sk-parallel-item:last-child::after {align-self: flex-start;width: 50%;}#sk-container-id-4 div.sk-parallel-item:only-child::after {width: 0;}#sk-container-id-4 div.sk-dashed-wrapped {border: 1px dashed gray;margin: 0 0.4em 0.5em 0.4em;box-sizing: border-box;padding-bottom: 0.4em;background-color: white;}#sk-container-id-4 div.sk-label label {font-family: monospace;font-weight: bold;display: inline-block;line-height: 1.2em;}#sk-container-id-4 div.sk-label-container {text-align: center;}#sk-container-id-4 div.sk-container {/* jupyter's `normalize.less` sets `[hidden] { display: none; }` but bootstrap.min.css set `[hidden] { display: none !important; }` so we also need the `!important` here to be able to override the default hidden behavior on the sphinx rendered scikit-learn.org. See: https://github.com/scikit-learn/scikit-learn/issues/21755 */display: inline-block !important;position: relative;}#sk-container-id-4 div.sk-text-repr-fallback {display: none;}</style><div id=\"sk-container-id-4\" class=\"sk-top-container\"><div class=\"sk-text-repr-fallback\"><pre>GridSearchCV(cv=3, estimator=SVR(kernel=&#x27;linear&#x27;),\n",
       "             param_grid={&#x27;C&#x27;: [0.1, 0.01, 1, 2, 3, 0.5, 0.75],\n",
       "                         &#x27;degree&#x27;: range(3, 9)},\n",
       "             scoring=&#x27;neg_mean_squared_error&#x27;)</pre><b>In a Jupyter environment, please rerun this cell to show the HTML representation or trust the notebook. <br />On GitHub, the HTML representation is unable to render, please try loading this page with nbviewer.org.</b></div><div class=\"sk-container\" hidden><div class=\"sk-item sk-dashed-wrapped\"><div class=\"sk-label-container\"><div class=\"sk-label sk-toggleable\"><input class=\"sk-toggleable__control sk-hidden--visually\" id=\"sk-estimator-id-10\" type=\"checkbox\" ><label for=\"sk-estimator-id-10\" class=\"sk-toggleable__label sk-toggleable__label-arrow\">GridSearchCV</label><div class=\"sk-toggleable__content\"><pre>GridSearchCV(cv=3, estimator=SVR(kernel=&#x27;linear&#x27;),\n",
       "             param_grid={&#x27;C&#x27;: [0.1, 0.01, 1, 2, 3, 0.5, 0.75],\n",
       "                         &#x27;degree&#x27;: range(3, 9)},\n",
       "             scoring=&#x27;neg_mean_squared_error&#x27;)</pre></div></div></div><div class=\"sk-parallel\"><div class=\"sk-parallel-item\"><div class=\"sk-item\"><div class=\"sk-label-container\"><div class=\"sk-label sk-toggleable\"><input class=\"sk-toggleable__control sk-hidden--visually\" id=\"sk-estimator-id-11\" type=\"checkbox\" ><label for=\"sk-estimator-id-11\" class=\"sk-toggleable__label sk-toggleable__label-arrow\">estimator: SVR</label><div class=\"sk-toggleable__content\"><pre>SVR(kernel=&#x27;linear&#x27;)</pre></div></div></div><div class=\"sk-serial\"><div class=\"sk-item\"><div class=\"sk-estimator sk-toggleable\"><input class=\"sk-toggleable__control sk-hidden--visually\" id=\"sk-estimator-id-12\" type=\"checkbox\" ><label for=\"sk-estimator-id-12\" class=\"sk-toggleable__label sk-toggleable__label-arrow\">SVR</label><div class=\"sk-toggleable__content\"><pre>SVR(kernel=&#x27;linear&#x27;)</pre></div></div></div></div></div></div></div></div></div></div>"
      ],
      "text/plain": [
       "GridSearchCV(cv=3, estimator=SVR(kernel='linear'),\n",
       "             param_grid={'C': [0.1, 0.01, 1, 2, 3, 0.5, 0.75],\n",
       "                         'degree': range(3, 9)},\n",
       "             scoring='neg_mean_squared_error')"
      ]
     },
     "execution_count": 47,
     "metadata": {},
     "output_type": "execute_result"
    }
   ],
   "source": [
    "model = SVR(kernel='linear')\n",
    "params = {'degree': range(3, 9),\n",
    "          \"C\": [0.1, 0.01, 1, 2, 3, 0.5, 0.75],}\n",
    "model_search = GridSearchCV(param_grid=params, estimator=model, scoring='neg_mean_squared_error', cv=3)\n",
    "model_search.fit(X_tr_scaled, y_train['target'])"
   ]
  },
  {
   "cell_type": "code",
   "execution_count": 48,
   "id": "7731053d",
   "metadata": {},
   "outputs": [
    {
     "data": {
      "text/plain": [
       "{'C': 3, 'degree': 3}"
      ]
     },
     "execution_count": 48,
     "metadata": {},
     "output_type": "execute_result"
    }
   ],
   "source": [
    "model_search.best_params_"
   ]
  },
  {
   "cell_type": "code",
   "execution_count": 49,
   "id": "d5466ba7",
   "metadata": {},
   "outputs": [
    {
     "name": "stdout",
     "output_type": "stream",
     "text": [
      "Качество:\n",
      "0.5987569901261652\n",
      "RMSE:\n",
      "0.7344297786127988\n"
     ]
    }
   ],
   "source": [
    "model = SVR(kernel='poly', C=3, degree=3)\n",
    "model.fit(X_tr_scaled, y_train['target'])\n",
    "prediction = model.predict(X_t_scaled)\n",
    "\n",
    "print(f\"Качество:\\n{r2_score(y_test, prediction)}\")\n",
    "print(f\"RMSE:\\n{MSE(y_test, prediction) ** (1/2)}\")"
   ]
  }
 ],
 "metadata": {
  "kernelspec": {
   "display_name": "Python 3 (ipykernel)",
   "language": "python",
   "name": "python3"
  },
  "language_info": {
   "codemirror_mode": {
    "name": "ipython",
    "version": 3
   },
   "file_extension": ".py",
   "mimetype": "text/x-python",
   "name": "python",
   "nbconvert_exporter": "python",
   "pygments_lexer": "ipython3",
   "version": "3.11.5"
  }
 },
 "nbformat": 4,
 "nbformat_minor": 5
}
