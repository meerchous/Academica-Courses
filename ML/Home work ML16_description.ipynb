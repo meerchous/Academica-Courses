{
 "cells": [
  {
   "cell_type": "markdown",
   "id": "db07f51a",
   "metadata": {},
   "source": [
    "# Пожалуйста, ответьте на следующие вопросы"
   ]
  },
  {
   "cell_type": "markdown",
   "id": "c6b6eab7",
   "metadata": {},
   "source": [
    "1. Какой модели рекомендаций не существует? \\\n",
    "a. Content based filtering \\\n",
    "b. Collaborative filtering \\\n",
    "c. Mutation"
   ]
  },
  {
   "cell_type": "markdown",
   "id": "05bf6437",
   "metadata": {},
   "source": [
    "**Ответ**: с"
   ]
  },
  {
   "cell_type": "markdown",
   "id": "dc561608",
   "metadata": {},
   "source": [
    "2. Какова основная цель content based filtering? \\\n",
    "a. Он основан на содержании данных \\\n",
    "b. Он основан на поведении других людей \\\n",
    "c. Он основан на скорости обучения"
   ]
  },
  {
   "cell_type": "markdown",
   "id": "e1c57071",
   "metadata": {},
   "source": [
    "**Ответ**: а"
   ]
  },
  {
   "cell_type": "markdown",
   "id": "03a269bc",
   "metadata": {},
   "source": [
    "2. Какова основная цель collaborative filtering? \\\n",
    "a. Он основан на содержании данных \\\n",
    "b. Он основан на поведении других людей \\\n",
    "c. Он основан на скорости обучения"
   ]
  },
  {
   "cell_type": "markdown",
   "id": "c9348203",
   "metadata": {},
   "source": [
    "**Ответ**: b"
   ]
  },
  {
   "cell_type": "markdown",
   "id": "a080f8f5",
   "metadata": {},
   "source": [
    "4. Какой метод используется для content based filtering? \\\n",
    "a. Matrix factorization \\\n",
    "b. Gradient descent \\\n",
    "c. Crossover"
   ]
  },
  {
   "cell_type": "markdown",
   "id": "2cc9e2b8",
   "metadata": {},
   "source": [
    "**Ответ**: a"
   ]
  }
 ],
 "metadata": {
  "kernelspec": {
   "display_name": "Python 3 (ipykernel)",
   "language": "python",
   "name": "python3"
  },
  "language_info": {
   "codemirror_mode": {
    "name": "ipython",
    "version": 3
   },
   "file_extension": ".py",
   "mimetype": "text/x-python",
   "name": "python",
   "nbconvert_exporter": "python",
   "pygments_lexer": "ipython3",
   "version": "3.11.5"
  }
 },
 "nbformat": 4,
 "nbformat_minor": 5
}
