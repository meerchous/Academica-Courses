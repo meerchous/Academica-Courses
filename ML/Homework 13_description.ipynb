{
 "cells": [
  {
   "cell_type": "markdown",
   "id": "c87f83d6",
   "metadata": {},
   "source": [
    "# Пожалуйста, ответьте на следующие вопросы"
   ]
  },
  {
   "cell_type": "markdown",
   "id": "4f45381b",
   "metadata": {},
   "source": [
    "1. Вероятность независимых факторов равна произведению вероятностей каждого фактора \\\n",
    "a. True \\\n",
    "b. False"
   ]
  },
  {
   "cell_type": "markdown",
   "id": "764d7a0e",
   "metadata": {},
   "source": [
    "**Ответ**: a"
   ]
  },
  {
   "cell_type": "markdown",
   "id": "fa2dda35",
   "metadata": {},
   "source": [
    "2. Как определяется теорема Байеса? \\\n",
    "a. P(A|B) = (P(B|A) P(A)) / P(B) \\\n",
    "b. P(A|B) = (P(B|A) P(A)) / P(A) \\\n",
    "c. P(A|B) = (P(B|A) P(B)) / P(B) \\\n",
    "d. P(A|B) = (P(A|B) P(A)) / P(B)"
   ]
  },
  {
   "cell_type": "markdown",
   "id": "89e8ba4e",
   "metadata": {},
   "source": [
    "**Ответ**: a"
   ]
  },
  {
   "cell_type": "markdown",
   "id": "e592788c",
   "metadata": {},
   "source": [
    "3. Что такое Р(А|В)? \\\n",
    "a. вероятность наступления события A при условии, что событие B произошло \\\n",
    "b. вероятность наступления события B при условии, что событие A произошло."
   ]
  },
  {
   "cell_type": "markdown",
   "id": "17309bbd",
   "metadata": {},
   "source": [
    "**Ответ**: a"
   ]
  }
 ],
 "metadata": {
  "kernelspec": {
   "display_name": "Python 3 (ipykernel)",
   "language": "python",
   "name": "python3"
  },
  "language_info": {
   "codemirror_mode": {
    "name": "ipython",
    "version": 3
   },
   "file_extension": ".py",
   "mimetype": "text/x-python",
   "name": "python",
   "nbconvert_exporter": "python",
   "pygments_lexer": "ipython3",
   "version": "3.11.5"
  }
 },
 "nbformat": 4,
 "nbformat_minor": 5
}
